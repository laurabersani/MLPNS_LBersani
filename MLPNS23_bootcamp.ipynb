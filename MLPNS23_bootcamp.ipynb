{
  "nbformat": 4,
  "nbformat_minor": 0,
  "metadata": {
    "colab": {
      "provenance": [],
      "authorship_tag": "ABX9TyMWwfOFPnZtGSvGCIvEpReN",
      "include_colab_link": true
    },
    "kernelspec": {
      "name": "python3",
      "display_name": "Python 3"
    },
    "language_info": {
      "name": "python"
    }
  },
  "cells": [
    {
      "cell_type": "markdown",
      "metadata": {
        "id": "view-in-github",
        "colab_type": "text"
      },
      "source": [
        "<a href=\"https://colab.research.google.com/github/laurabersani/MLPNS_LBersani/blob/main/MLPNS23_bootcamp.ipynb\" target=\"_parent\"><img src=\"https://colab.research.google.com/assets/colab-badge.svg\" alt=\"Open In Colab\"/></a>"
      ]
    },
    {
      "cell_type": "code",
      "execution_count": 2,
      "metadata": {
        "colab": {
          "base_uri": "https://localhost:8080/"
        },
        "id": "aGk_nVVI0Wix",
        "outputId": "807dc55a-cf9a-45db-8e31-d77f6ff22bf6"
      },
      "outputs": [
        {
          "output_type": "execute_result",
          "data": {
            "text/plain": [
              "4"
            ]
          },
          "metadata": {},
          "execution_count": 2
        }
      ],
      "source": [
        "2*2"
      ]
    },
    {
      "cell_type": "markdown",
      "source": [
        "# Native variables and variable types\n",
        "Sono pezzi di memoria dove è salvata dell'informazione. "
      ],
      "metadata": {
        "id": "HVQ_ZpOS1lq2"
      }
    },
    {
      "cell_type": "markdown",
      "source": [
        "## integer\n"
      ],
      "metadata": {
        "id": "MDPNfDzh7IOr"
      }
    },
    {
      "cell_type": "code",
      "source": [
        "intvar=5"
      ],
      "metadata": {
        "id": "tN3mZ2Ie11Nz"
      },
      "execution_count": 3,
      "outputs": []
    },
    {
      "cell_type": "code",
      "source": [
        "type(intvar)"
      ],
      "metadata": {
        "colab": {
          "base_uri": "https://localhost:8080/"
        },
        "id": "PjEe-Fki390s",
        "outputId": "01948c8d-4f94-4826-d434-77960653b02c"
      },
      "execution_count": 4,
      "outputs": [
        {
          "output_type": "execute_result",
          "data": {
            "text/plain": [
              "int"
            ]
          },
          "metadata": {},
          "execution_count": 4
        }
      ]
    },
    {
      "cell_type": "markdown",
      "source": [],
      "metadata": {
        "id": "aj6NMy1L7P5P"
      }
    },
    {
      "cell_type": "markdown",
      "source": [
        "## float"
      ],
      "metadata": {
        "id": "yxzFQdAG7N2o"
      }
    },
    {
      "cell_type": "code",
      "source": [
        "float(intvar)"
      ],
      "metadata": {
        "colab": {
          "base_uri": "https://localhost:8080/"
        },
        "id": "k9-yU39f4C03",
        "outputId": "097da43f-4e32-4a76-c073-1a06a5d047e8"
      },
      "execution_count": 5,
      "outputs": [
        {
          "output_type": "execute_result",
          "data": {
            "text/plain": [
              "5.0"
            ]
          },
          "metadata": {},
          "execution_count": 5
        }
      ]
    },
    {
      "cell_type": "code",
      "source": [
        "floatvar=9.9"
      ],
      "metadata": {
        "id": "Xgw2sIVT4In8"
      },
      "execution_count": 6,
      "outputs": []
    },
    {
      "cell_type": "markdown",
      "source": [
        "string"
      ],
      "metadata": {
        "id": "RKyw-xeR7RPP"
      }
    },
    {
      "cell_type": "code",
      "source": [
        "print(\"'Hello world'\")"
      ],
      "metadata": {
        "colab": {
          "base_uri": "https://localhost:8080/"
        },
        "id": "ZOjeSNL15bax",
        "outputId": "4a96aa52-d4d9-4e39-975c-fb69153085c6"
      },
      "execution_count": 8,
      "outputs": [
        {
          "output_type": "stream",
          "name": "stdout",
          "text": [
            "'Hello world'\n"
          ]
        }
      ]
    },
    {
      "cell_type": "code",
      "source": [
        "strvar=('hello world')"
      ],
      "metadata": {
        "id": "E8UL9WhY5iD0"
      },
      "execution_count": 27,
      "outputs": []
    },
    {
      "cell_type": "code",
      "source": [
        "print(strvar)"
      ],
      "metadata": {
        "colab": {
          "base_uri": "https://localhost:8080/"
        },
        "id": "ooGFOqU-6JRz",
        "outputId": "df16fc39-2b0b-48b2-fb1c-5f9b5dfd1d73"
      },
      "execution_count": 11,
      "outputs": [
        {
          "output_type": "stream",
          "name": "stdout",
          "text": [
            "\"wee\"\n"
          ]
        }
      ]
    },
    {
      "cell_type": "markdown",
      "source": [
        "## boolean"
      ],
      "metadata": {
        "id": "h4w4o8Q47TuQ"
      }
    },
    {
      "cell_type": "code",
      "source": [
        "True"
      ],
      "metadata": {
        "colab": {
          "base_uri": "https://localhost:8080/"
        },
        "id": "9xi3C8SG7Wt7",
        "outputId": "ab5c916f-1b31-4935-85f4-e75471f95a09"
      },
      "execution_count": 13,
      "outputs": [
        {
          "output_type": "execute_result",
          "data": {
            "text/plain": [
              "True"
            ]
          },
          "metadata": {},
          "execution_count": 13
        }
      ]
    },
    {
      "cell_type": "code",
      "source": [
        "prova=5.0\n",
        "intvar==prova"
      ],
      "metadata": {
        "colab": {
          "base_uri": "https://localhost:8080/"
        },
        "id": "5GeDmQ4i9Izo",
        "outputId": "eb322686-9aed-46a5-a9de-c951a37ec9fb"
      },
      "execution_count": 16,
      "outputs": [
        {
          "output_type": "execute_result",
          "data": {
            "text/plain": [
              "True"
            ]
          },
          "metadata": {},
          "execution_count": 16
        }
      ]
    },
    {
      "cell_type": "code",
      "source": [
        "if intvar==prova:\n",
        "  print(\"It was true!!!\")\n",
        "  print(intvar+floatvar)\n",
        "else:\n",
        "  print(\"Condition was false\")\n",
        "  "
      ],
      "metadata": {
        "colab": {
          "base_uri": "https://localhost:8080/"
        },
        "id": "Tec7pryQ7j7p",
        "outputId": "44302b4f-14a3-41a3-b9ca-ca1d0ed3b7e9"
      },
      "execution_count": 15,
      "outputs": [
        {
          "output_type": "stream",
          "name": "stdout",
          "text": [
            "It was true!!!\n",
            "14.9\n"
          ]
        }
      ]
    },
    {
      "cell_type": "code",
      "source": [
        "# == is equal?\n",
        "print(intvar==floatvar)\n",
        "#is >?\n",
        "print(intvar>floatvar)\n",
        "#is <?\n",
        "print(intvar<floatvar)\n",
        "# != not equal\n",
        "print(intvar!=floatvar)"
      ],
      "metadata": {
        "colab": {
          "base_uri": "https://localhost:8080/"
        },
        "id": "BysPV1vk7jxB",
        "outputId": "abb00dbb-2699-48a7-e4f9-4c619caa2e33"
      },
      "execution_count": 18,
      "outputs": [
        {
          "output_type": "stream",
          "name": "stdout",
          "text": [
            "False\n",
            "False\n",
            "True\n",
            "True\n"
          ]
        }
      ]
    },
    {
      "cell_type": "code",
      "source": [
        "# | logical or\n",
        "# & logical and\n",
        "(intvar>floatvar) | (intvar<floatvar)\n",
        "(intvar>floatvar) & (intvar<floatvar)"
      ],
      "metadata": {
        "colab": {
          "base_uri": "https://localhost:8080/"
        },
        "id": "7Oza1DPV9viU",
        "outputId": "4533bfc7-64bc-4e23-d298-d1c5de9810fb"
      },
      "execution_count": 19,
      "outputs": [
        {
          "output_type": "execute_result",
          "data": {
            "text/plain": [
              "False"
            ]
          },
          "metadata": {},
          "execution_count": 19
        }
      ]
    },
    {
      "cell_type": "code",
      "source": [
        "True==1 "
      ],
      "metadata": {
        "colab": {
          "base_uri": "https://localhost:8080/"
        },
        "id": "ZxLzbVkq-KHo",
        "outputId": "d6277336-98ef-4e0d-9f36-22bc33138723"
      },
      "execution_count": 20,
      "outputs": [
        {
          "output_type": "execute_result",
          "data": {
            "text/plain": [
              "True"
            ]
          },
          "metadata": {},
          "execution_count": 20
        }
      ]
    },
    {
      "cell_type": "code",
      "source": [
        "# * is logical AND\n",
        "# + is logical OR\n",
        "if (intvar>floatvar) + (intvar<floatvar):\n",
        "  print(\"Right!\")"
      ],
      "metadata": {
        "colab": {
          "base_uri": "https://localhost:8080/"
        },
        "id": "4yID0IxE-ubE",
        "outputId": "f037fb61-9fa6-459e-94d6-37bb02d19c0b"
      },
      "execution_count": 21,
      "outputs": [
        {
          "output_type": "stream",
          "name": "stdout",
          "text": [
            "Right!\n"
          ]
        }
      ]
    },
    {
      "cell_type": "code",
      "source": [
        "for i in range(1,10,2):\n",
        "  print(i)"
      ],
      "metadata": {
        "colab": {
          "base_uri": "https://localhost:8080/"
        },
        "id": "mu9nqF-sBdtx",
        "outputId": "cae54860-a42e-4d96-e52b-fd2ccf6cf852"
      },
      "execution_count": 23,
      "outputs": [
        {
          "output_type": "stream",
          "name": "stdout",
          "text": [
            "1\n",
            "3\n",
            "5\n",
            "7\n",
            "9\n"
          ]
        }
      ]
    },
    {
      "cell_type": "code",
      "source": [],
      "metadata": {
        "id": "7AtGfeHdCb3l"
      },
      "execution_count": null,
      "outputs": []
    },
    {
      "cell_type": "markdown",
      "source": [
        "# Variable as object\n",
        "Pythiìon is an object oriented language\n"
      ],
      "metadata": {
        "id": "XsW58wl162yk"
      }
    },
    {
      "cell_type": "code",
      "source": [
        "strvar"
      ],
      "metadata": {
        "colab": {
          "base_uri": "https://localhost:8080/",
          "height": 36
        },
        "id": "Ls8sDwVy6vmg",
        "outputId": "cc35651d-eafe-477a-e32d-28c8aa99f380"
      },
      "execution_count": 28,
      "outputs": [
        {
          "output_type": "execute_result",
          "data": {
            "text/plain": [
              "'hello world'"
            ],
            "application/vnd.google.colaboratory.intrinsic+json": {
              "type": "string"
            }
          },
          "metadata": {},
          "execution_count": 28
        }
      ]
    },
    {
      "cell_type": "code",
      "source": [
        "strvar.capitalize()"
      ],
      "metadata": {
        "colab": {
          "base_uri": "https://localhost:8080/",
          "height": 36
        },
        "id": "tNoEK177Cs4F",
        "outputId": "9c1145d8-e29d-49d3-95a4-1690257b1bf7"
      },
      "execution_count": 31,
      "outputs": [
        {
          "output_type": "execute_result",
          "data": {
            "text/plain": [
              "'Hello world'"
            ],
            "application/vnd.google.colaboratory.intrinsic+json": {
              "type": "string"
            }
          },
          "metadata": {},
          "execution_count": 31
        }
      ]
    },
    {
      "cell_type": "code",
      "source": [
        "strvar.upper()"
      ],
      "metadata": {
        "colab": {
          "base_uri": "https://localhost:8080/",
          "height": 36
        },
        "id": "XhlgnCEzDUDM",
        "outputId": "0694c349-d2ab-4a88-9e04-b6b2be70bb3f"
      },
      "execution_count": 32,
      "outputs": [
        {
          "output_type": "execute_result",
          "data": {
            "text/plain": [
              "'HELLO WORLD'"
            ],
            "application/vnd.google.colaboratory.intrinsic+json": {
              "type": "string"
            }
          },
          "metadata": {},
          "execution_count": 32
        }
      ]
    },
    {
      "cell_type": "code",
      "source": [
        "strvar.isdigit()"
      ],
      "metadata": {
        "colab": {
          "base_uri": "https://localhost:8080/"
        },
        "id": "jKQXVdsDDZKJ",
        "outputId": "ed153261-14da-4add-cc1c-45150621c41d"
      },
      "execution_count": 33,
      "outputs": [
        {
          "output_type": "execute_result",
          "data": {
            "text/plain": [
              "False"
            ]
          },
          "metadata": {},
          "execution_count": 33
        }
      ]
    },
    {
      "cell_type": "code",
      "source": [
        "\"3\".isdigit()"
      ],
      "metadata": {
        "colab": {
          "base_uri": "https://localhost:8080/"
        },
        "id": "MwwhKy0XDci0",
        "outputId": "8d01a0ec-3c1b-48ac-d102-12c662e352c7"
      },
      "execution_count": 34,
      "outputs": [
        {
          "output_type": "execute_result",
          "data": {
            "text/plain": [
              "True"
            ]
          },
          "metadata": {},
          "execution_count": 34
        }
      ]
    },
    {
      "cell_type": "code",
      "source": [
        "prova.is_integer()\n"
      ],
      "metadata": {
        "colab": {
          "base_uri": "https://localhost:8080/"
        },
        "id": "p7tBFU00Dh_2",
        "outputId": "26752ade-83b5-4d68-c69e-22faf15536f3"
      },
      "execution_count": 35,
      "outputs": [
        {
          "output_type": "execute_result",
          "data": {
            "text/plain": [
              "True"
            ]
          },
          "metadata": {},
          "execution_count": 35
        }
      ]
    },
    {
      "cell_type": "markdown",
      "source": [
        "#list"
      ],
      "metadata": {
        "id": "0qig8Z8_Eizl"
      }
    },
    {
      "cell_type": "code",
      "source": [
        "listvar=[intvar, floatvar, strvar, 0, True]\n"
      ],
      "metadata": {
        "id": "5GNLMwaJDrVK"
      },
      "execution_count": 36,
      "outputs": []
    },
    {
      "cell_type": "code",
      "source": [
        "listvar.append(11)\n"
      ],
      "metadata": {
        "id": "nLiUIW6YEnIp"
      },
      "execution_count": 37,
      "outputs": []
    },
    {
      "cell_type": "code",
      "source": [
        "'h' in strvar"
      ],
      "metadata": {
        "colab": {
          "base_uri": "https://localhost:8080/"
        },
        "id": "UbQmcniJEnGQ",
        "outputId": "8c289299-236b-45b8-cd5a-9963dce755f4"
      },
      "execution_count": 39,
      "outputs": [
        {
          "output_type": "execute_result",
          "data": {
            "text/plain": [
              "True"
            ]
          },
          "metadata": {},
          "execution_count": 39
        }
      ]
    },
    {
      "cell_type": "code",
      "source": [
        "listvar[1]=5"
      ],
      "metadata": {
        "id": "8N1VHxz8Ft9S"
      },
      "execution_count": 40,
      "outputs": []
    },
    {
      "cell_type": "code",
      "source": [
        "listvar"
      ],
      "metadata": {
        "colab": {
          "base_uri": "https://localhost:8080/"
        },
        "id": "LHHNZpPBGLQw",
        "outputId": "b8475b44-01fc-4321-b4e0-bf2dd71efbff"
      },
      "execution_count": 41,
      "outputs": [
        {
          "output_type": "execute_result",
          "data": {
            "text/plain": [
              "[5, 5, 'hello world', 0, True, 11]"
            ]
          },
          "metadata": {},
          "execution_count": 41
        }
      ]
    },
    {
      "cell_type": "markdown",
      "source": [
        "# WORDLE"
      ],
      "metadata": {
        "id": "HEYPFoLVHUDz"
      }
    },
    {
      "cell_type": "code",
      "source": [
        "target=\"acres\"\n",
        "guess=\"Acres\"\n",
        "result=\"\"\n",
        "\n",
        "target=target.lower()\n",
        "guess=guess.lower()\n",
        "\n",
        "if len(target)!=len(guess):\n",
        "  print(\"Wrong length\")\n",
        "\n",
        "else:\n",
        "  for i in range(5):\n",
        "    lettera=guess[i]\n",
        "    if lettera==target[i]:\n",
        "      result=result+lettera\n",
        "    elif lettera in target:\n",
        "      result=result+'*'\n",
        "    else:\n",
        "      result=result+'_'\n",
        "\n",
        "print(result)\n",
        "\n",
        "if result==target:\n",
        "  print(\"Hai vinto\")\n",
        "else:\n",
        "  print(\"try again\")\n"
      ],
      "metadata": {
        "colab": {
          "base_uri": "https://localhost:8080/"
        },
        "id": "9zyUg2l4GNOc",
        "outputId": "80ca5deb-6c32-42be-eb06-3aac4e1231bc"
      },
      "execution_count": 60,
      "outputs": [
        {
          "output_type": "stream",
          "name": "stdout",
          "text": [
            "acres\n",
            "Hai vinto\n"
          ]
        }
      ]
    },
    {
      "cell_type": "markdown",
      "source": [
        "# Functions"
      ],
      "metadata": {
        "id": "UNeTqAOHO8e8"
      }
    },
    {
      "cell_type": "code",
      "source": [
        "def wordle(guess):\n",
        "  \"\"\"\n",
        "  A function that checks a guess against a target.\n",
        "  Input:\n",
        "    guess: a string\n",
        "  Return:\n",
        "    a string\n",
        "  \"\"\"\n",
        "  target=\"acres\"\n",
        "  result=\"\"\n",
        "\n",
        "  target=target.lower()\n",
        "  guess=guess.lower()\n",
        "\n",
        "  if len(target)!=len(guess):\n",
        "    print(\"Wrong length\")\n",
        "\n",
        "  else:\n",
        "   for i in range(5):\n",
        "    lettera=guess[i]\n",
        "    if lettera==target[i]:\n",
        "        result=result+lettera\n",
        "    elif lettera in target:\n",
        "       result=result+'*'\n",
        "    else:\n",
        "       result=result+'_'\n",
        "\n",
        "  if result==target:\n",
        "    print(\"Hai vinto\")\n",
        "  else:\n",
        "    print(\"try again\")\n",
        "\n",
        "  return result\n",
        "\n"
      ],
      "metadata": {
        "id": "-4HtWaWIJqZO"
      },
      "execution_count": 80,
      "outputs": []
    },
    {
      "cell_type": "code",
      "source": [
        "wordle(\"pallaw\")"
      ],
      "metadata": {
        "colab": {
          "base_uri": "https://localhost:8080/",
          "height": 72
        },
        "id": "PZ-2RA8-SSM-",
        "outputId": "3ca7910e-4812-4a7c-8040-5f8d2e6663f9"
      },
      "execution_count": 82,
      "outputs": [
        {
          "output_type": "stream",
          "name": "stdout",
          "text": [
            "Wrong length\n",
            "try again\n"
          ]
        },
        {
          "output_type": "execute_result",
          "data": {
            "text/plain": [
              "''"
            ],
            "application/vnd.google.colaboratory.intrinsic+json": {
              "type": "string"
            }
          },
          "metadata": {},
          "execution_count": 82
        }
      ]
    },
    {
      "cell_type": "markdown",
      "source": [
        "#Packages"
      ],
      "metadata": {
        "id": "ESJx84ZrSgZg"
      }
    },
    {
      "cell_type": "markdown",
      "source": [
        "### pandas\n",
        "for manipulation of tabular data\n",
        "### numpy\n",
        "manipulation of numperical data\n",
        "### scipy\n",
        "statistica\n",
        "### matplotlib (pylab)\n",
        "for visualization and plotting\n",
        "### sklearn (scikitlearn)\n",
        "machine learning\n",
        "### tensorflow\n",
        "neural networks"
      ],
      "metadata": {
        "id": "JhNuR7zkSkwe"
      }
    },
    {
      "cell_type": "code",
      "source": [
        "import pandas as pd"
      ],
      "metadata": {
        "id": "nnBhZljYSVsd"
      },
      "execution_count": 85,
      "outputs": []
    },
    {
      "cell_type": "code",
      "source": [
        "url=\"https://raw.githubusercontent.com/fedhere/PyBOOT/master/311_Service_Requests_from_2010_to_Present.csv\""
      ],
      "metadata": {
        "id": "_dGv413KTKLl"
      },
      "execution_count": 87,
      "outputs": []
    },
    {
      "cell_type": "code",
      "source": [
        "df=pd.read_csv(url)"
      ],
      "metadata": {
        "id": "4d9SsAKsVXiB"
      },
      "execution_count": 88,
      "outputs": []
    },
    {
      "cell_type": "code",
      "source": [
        "df #data frame\n",
        "#in verticale c'è l'indice che individua i vari dati"
      ],
      "metadata": {
        "colab": {
          "base_uri": "https://localhost:8080/",
          "height": 870
        },
        "id": "M-33AZ8GVerQ",
        "outputId": "7fc846f0-5b29-41dd-985b-0746db63cb3f"
      },
      "execution_count": 89,
      "outputs": [
        {
          "output_type": "execute_result",
          "data": {
            "text/plain": [
              "     Unique Key            Created Date             Closed Date Agency  \\\n",
              "0      54049402  05/01/2022 12:00:03 AM                     NaN   NYPD   \n",
              "1      54046813  05/01/2022 12:00:09 AM  05/01/2022 12:07:46 AM   NYPD   \n",
              "2      54045643  05/01/2022 12:00:17 AM  05/01/2022 12:10:38 AM   NYPD   \n",
              "3      54051838  05/01/2022 12:00:21 AM  05/01/2022 12:53:23 AM   NYPD   \n",
              "4      54052808  05/01/2022 12:00:25 AM  05/01/2022 01:01:47 AM   NYPD   \n",
              "..          ...                     ...                     ...    ...   \n",
              "919    54049386  05/01/2022 02:04:45 AM                     NaN   NYPD   \n",
              "920    54049413  05/01/2022 02:05:35 AM                     NaN   NYPD   \n",
              "921    54052476  05/01/2022 02:05:38 AM                     NaN   NYPD   \n",
              "922    54053504  05/01/2022 02:06:13 AM                     NaN   NYPD   \n",
              "923    54048300  05/01/2022 02:06:26 AM                     NaN   NYPD   \n",
              "\n",
              "                         Agency Name           Complaint Type  \\\n",
              "0    New York City Police Department      Noise - Residential   \n",
              "1    New York City Police Department  Noise - Street/Sidewalk   \n",
              "2    New York City Police Department      Noise - Residential   \n",
              "3    New York City Police Department         Blocked Driveway   \n",
              "4    New York City Police Department          Illegal Parking   \n",
              "..                               ...                      ...   \n",
              "919  New York City Police Department      Noise - Residential   \n",
              "920  New York City Police Department  Noise - Street/Sidewalk   \n",
              "921  New York City Police Department      Noise - Residential   \n",
              "922  New York City Police Department          Illegal Parking   \n",
              "923  New York City Police Department          Noise - Vehicle   \n",
              "\n",
              "                       Descriptor               Location Type  Incident Zip  \\\n",
              "0                Loud Music/Party  Residential Building/House       10452.0   \n",
              "1                Loud Music/Party             Street/Sidewalk       10027.0   \n",
              "2                Loud Music/Party  Residential Building/House       10033.0   \n",
              "3                  Partial Access             Street/Sidewalk       11214.0   \n",
              "4    Commercial Overnight Parking             Street/Sidewalk       10304.0   \n",
              "..                            ...                         ...           ...   \n",
              "919              Loud Music/Party  Residential Building/House       10031.0   \n",
              "920              Loud Music/Party             Street/Sidewalk       11231.0   \n",
              "921              Loud Music/Party  Residential Building/House       11208.0   \n",
              "922  Overnight Commercial Storage             Street/Sidewalk       11373.0   \n",
              "923               Car/Truck Music             Street/Sidewalk       11210.0   \n",
              "\n",
              "             Incident Address  ... Vehicle Type Taxi Company Borough  \\\n",
              "0          1006 GERARD AVENUE  ...          NaN                  NaN   \n",
              "1        364 WEST  127 STREET  ...          NaN                  NaN   \n",
              "2    593 FT WASHINGTON AVENUE  ...          NaN                  NaN   \n",
              "3              8106 17 AVENUE  ...          NaN                  NaN   \n",
              "4           935 TARGEE STREET  ...          NaN                  NaN   \n",
              "..                        ...  ...          ...                  ...   \n",
              "919      514 WEST  136 STREET  ...          NaN                  NaN   \n",
              "920       151 RICHARDS STREET  ...          NaN                  NaN   \n",
              "921         37 HEMLOCK STREET  ...          NaN                  NaN   \n",
              "922        60-42 BOOTH STREET  ...          NaN                  NaN   \n",
              "923      723 EAST   27 STREET  ...          NaN                  NaN   \n",
              "\n",
              "    Taxi Pick Up Location Bridge Highway Name Bridge Highway Direction  \\\n",
              "0                     NaN                 NaN                      NaN   \n",
              "1                     NaN                 NaN                      NaN   \n",
              "2                     NaN                 NaN                      NaN   \n",
              "3                     NaN                 NaN                      NaN   \n",
              "4                     NaN                 NaN                      NaN   \n",
              "..                    ...                 ...                      ...   \n",
              "919                   NaN                 NaN                      NaN   \n",
              "920                   NaN                 NaN                      NaN   \n",
              "921                   NaN                 NaN                      NaN   \n",
              "922                   NaN                 NaN                      NaN   \n",
              "923                   NaN                 NaN                      NaN   \n",
              "\n",
              "    Road Ramp Bridge Highway Segment   Latitude  Longitude  \\\n",
              "0         NaN                    NaN  40.830653 -73.923082   \n",
              "1         NaN                    NaN  40.812378 -73.952401   \n",
              "2         NaN                    NaN  40.854714 -73.937026   \n",
              "3         NaN                    NaN  40.611332 -74.002028   \n",
              "4         NaN                    NaN  40.605614 -74.090992   \n",
              "..        ...                    ...        ...        ...   \n",
              "919       NaN                    NaN  40.820160 -73.953158   \n",
              "920       NaN                    NaN  40.676566 -74.011100   \n",
              "921       NaN                    NaN  40.688911 -73.872353   \n",
              "922       NaN                    NaN  40.731194 -73.869533   \n",
              "923       NaN                    NaN  40.633076 -73.950965   \n",
              "\n",
              "                                     Location  \n",
              "0     (40.83065331987539, -73.92308231033165)  \n",
              "1     (40.81237834836466, -73.95240115039357)  \n",
              "2    (40.854713655427595, -73.93702585036192)  \n",
              "3    (40.611331690801165, -74.00202773560115)  \n",
              "4    (40.605613964168455, -74.09099181031843)  \n",
              "..                                        ...  \n",
              "919   (40.82015993990901, -73.95315791994004)  \n",
              "920    (40.6765664690211, -74.01110036402942)  \n",
              "921   (40.68891081481749, -73.87235278581583)  \n",
              "922   (40.73119351356087, -73.86953320857873)  \n",
              "923  (40.633076468003175, -73.95096540810518)  \n",
              "\n",
              "[924 rows x 41 columns]"
            ],
            "text/html": [
              "\n",
              "  <div id=\"df-4b146ac2-6129-4877-ae30-bccc36bb882e\">\n",
              "    <div class=\"colab-df-container\">\n",
              "      <div>\n",
              "<style scoped>\n",
              "    .dataframe tbody tr th:only-of-type {\n",
              "        vertical-align: middle;\n",
              "    }\n",
              "\n",
              "    .dataframe tbody tr th {\n",
              "        vertical-align: top;\n",
              "    }\n",
              "\n",
              "    .dataframe thead th {\n",
              "        text-align: right;\n",
              "    }\n",
              "</style>\n",
              "<table border=\"1\" class=\"dataframe\">\n",
              "  <thead>\n",
              "    <tr style=\"text-align: right;\">\n",
              "      <th></th>\n",
              "      <th>Unique Key</th>\n",
              "      <th>Created Date</th>\n",
              "      <th>Closed Date</th>\n",
              "      <th>Agency</th>\n",
              "      <th>Agency Name</th>\n",
              "      <th>Complaint Type</th>\n",
              "      <th>Descriptor</th>\n",
              "      <th>Location Type</th>\n",
              "      <th>Incident Zip</th>\n",
              "      <th>Incident Address</th>\n",
              "      <th>...</th>\n",
              "      <th>Vehicle Type</th>\n",
              "      <th>Taxi Company Borough</th>\n",
              "      <th>Taxi Pick Up Location</th>\n",
              "      <th>Bridge Highway Name</th>\n",
              "      <th>Bridge Highway Direction</th>\n",
              "      <th>Road Ramp</th>\n",
              "      <th>Bridge Highway Segment</th>\n",
              "      <th>Latitude</th>\n",
              "      <th>Longitude</th>\n",
              "      <th>Location</th>\n",
              "    </tr>\n",
              "  </thead>\n",
              "  <tbody>\n",
              "    <tr>\n",
              "      <th>0</th>\n",
              "      <td>54049402</td>\n",
              "      <td>05/01/2022 12:00:03 AM</td>\n",
              "      <td>NaN</td>\n",
              "      <td>NYPD</td>\n",
              "      <td>New York City Police Department</td>\n",
              "      <td>Noise - Residential</td>\n",
              "      <td>Loud Music/Party</td>\n",
              "      <td>Residential Building/House</td>\n",
              "      <td>10452.0</td>\n",
              "      <td>1006 GERARD AVENUE</td>\n",
              "      <td>...</td>\n",
              "      <td>NaN</td>\n",
              "      <td>NaN</td>\n",
              "      <td>NaN</td>\n",
              "      <td>NaN</td>\n",
              "      <td>NaN</td>\n",
              "      <td>NaN</td>\n",
              "      <td>NaN</td>\n",
              "      <td>40.830653</td>\n",
              "      <td>-73.923082</td>\n",
              "      <td>(40.83065331987539, -73.92308231033165)</td>\n",
              "    </tr>\n",
              "    <tr>\n",
              "      <th>1</th>\n",
              "      <td>54046813</td>\n",
              "      <td>05/01/2022 12:00:09 AM</td>\n",
              "      <td>05/01/2022 12:07:46 AM</td>\n",
              "      <td>NYPD</td>\n",
              "      <td>New York City Police Department</td>\n",
              "      <td>Noise - Street/Sidewalk</td>\n",
              "      <td>Loud Music/Party</td>\n",
              "      <td>Street/Sidewalk</td>\n",
              "      <td>10027.0</td>\n",
              "      <td>364 WEST  127 STREET</td>\n",
              "      <td>...</td>\n",
              "      <td>NaN</td>\n",
              "      <td>NaN</td>\n",
              "      <td>NaN</td>\n",
              "      <td>NaN</td>\n",
              "      <td>NaN</td>\n",
              "      <td>NaN</td>\n",
              "      <td>NaN</td>\n",
              "      <td>40.812378</td>\n",
              "      <td>-73.952401</td>\n",
              "      <td>(40.81237834836466, -73.95240115039357)</td>\n",
              "    </tr>\n",
              "    <tr>\n",
              "      <th>2</th>\n",
              "      <td>54045643</td>\n",
              "      <td>05/01/2022 12:00:17 AM</td>\n",
              "      <td>05/01/2022 12:10:38 AM</td>\n",
              "      <td>NYPD</td>\n",
              "      <td>New York City Police Department</td>\n",
              "      <td>Noise - Residential</td>\n",
              "      <td>Loud Music/Party</td>\n",
              "      <td>Residential Building/House</td>\n",
              "      <td>10033.0</td>\n",
              "      <td>593 FT WASHINGTON AVENUE</td>\n",
              "      <td>...</td>\n",
              "      <td>NaN</td>\n",
              "      <td>NaN</td>\n",
              "      <td>NaN</td>\n",
              "      <td>NaN</td>\n",
              "      <td>NaN</td>\n",
              "      <td>NaN</td>\n",
              "      <td>NaN</td>\n",
              "      <td>40.854714</td>\n",
              "      <td>-73.937026</td>\n",
              "      <td>(40.854713655427595, -73.93702585036192)</td>\n",
              "    </tr>\n",
              "    <tr>\n",
              "      <th>3</th>\n",
              "      <td>54051838</td>\n",
              "      <td>05/01/2022 12:00:21 AM</td>\n",
              "      <td>05/01/2022 12:53:23 AM</td>\n",
              "      <td>NYPD</td>\n",
              "      <td>New York City Police Department</td>\n",
              "      <td>Blocked Driveway</td>\n",
              "      <td>Partial Access</td>\n",
              "      <td>Street/Sidewalk</td>\n",
              "      <td>11214.0</td>\n",
              "      <td>8106 17 AVENUE</td>\n",
              "      <td>...</td>\n",
              "      <td>NaN</td>\n",
              "      <td>NaN</td>\n",
              "      <td>NaN</td>\n",
              "      <td>NaN</td>\n",
              "      <td>NaN</td>\n",
              "      <td>NaN</td>\n",
              "      <td>NaN</td>\n",
              "      <td>40.611332</td>\n",
              "      <td>-74.002028</td>\n",
              "      <td>(40.611331690801165, -74.00202773560115)</td>\n",
              "    </tr>\n",
              "    <tr>\n",
              "      <th>4</th>\n",
              "      <td>54052808</td>\n",
              "      <td>05/01/2022 12:00:25 AM</td>\n",
              "      <td>05/01/2022 01:01:47 AM</td>\n",
              "      <td>NYPD</td>\n",
              "      <td>New York City Police Department</td>\n",
              "      <td>Illegal Parking</td>\n",
              "      <td>Commercial Overnight Parking</td>\n",
              "      <td>Street/Sidewalk</td>\n",
              "      <td>10304.0</td>\n",
              "      <td>935 TARGEE STREET</td>\n",
              "      <td>...</td>\n",
              "      <td>NaN</td>\n",
              "      <td>NaN</td>\n",
              "      <td>NaN</td>\n",
              "      <td>NaN</td>\n",
              "      <td>NaN</td>\n",
              "      <td>NaN</td>\n",
              "      <td>NaN</td>\n",
              "      <td>40.605614</td>\n",
              "      <td>-74.090992</td>\n",
              "      <td>(40.605613964168455, -74.09099181031843)</td>\n",
              "    </tr>\n",
              "    <tr>\n",
              "      <th>...</th>\n",
              "      <td>...</td>\n",
              "      <td>...</td>\n",
              "      <td>...</td>\n",
              "      <td>...</td>\n",
              "      <td>...</td>\n",
              "      <td>...</td>\n",
              "      <td>...</td>\n",
              "      <td>...</td>\n",
              "      <td>...</td>\n",
              "      <td>...</td>\n",
              "      <td>...</td>\n",
              "      <td>...</td>\n",
              "      <td>...</td>\n",
              "      <td>...</td>\n",
              "      <td>...</td>\n",
              "      <td>...</td>\n",
              "      <td>...</td>\n",
              "      <td>...</td>\n",
              "      <td>...</td>\n",
              "      <td>...</td>\n",
              "      <td>...</td>\n",
              "    </tr>\n",
              "    <tr>\n",
              "      <th>919</th>\n",
              "      <td>54049386</td>\n",
              "      <td>05/01/2022 02:04:45 AM</td>\n",
              "      <td>NaN</td>\n",
              "      <td>NYPD</td>\n",
              "      <td>New York City Police Department</td>\n",
              "      <td>Noise - Residential</td>\n",
              "      <td>Loud Music/Party</td>\n",
              "      <td>Residential Building/House</td>\n",
              "      <td>10031.0</td>\n",
              "      <td>514 WEST  136 STREET</td>\n",
              "      <td>...</td>\n",
              "      <td>NaN</td>\n",
              "      <td>NaN</td>\n",
              "      <td>NaN</td>\n",
              "      <td>NaN</td>\n",
              "      <td>NaN</td>\n",
              "      <td>NaN</td>\n",
              "      <td>NaN</td>\n",
              "      <td>40.820160</td>\n",
              "      <td>-73.953158</td>\n",
              "      <td>(40.82015993990901, -73.95315791994004)</td>\n",
              "    </tr>\n",
              "    <tr>\n",
              "      <th>920</th>\n",
              "      <td>54049413</td>\n",
              "      <td>05/01/2022 02:05:35 AM</td>\n",
              "      <td>NaN</td>\n",
              "      <td>NYPD</td>\n",
              "      <td>New York City Police Department</td>\n",
              "      <td>Noise - Street/Sidewalk</td>\n",
              "      <td>Loud Music/Party</td>\n",
              "      <td>Street/Sidewalk</td>\n",
              "      <td>11231.0</td>\n",
              "      <td>151 RICHARDS STREET</td>\n",
              "      <td>...</td>\n",
              "      <td>NaN</td>\n",
              "      <td>NaN</td>\n",
              "      <td>NaN</td>\n",
              "      <td>NaN</td>\n",
              "      <td>NaN</td>\n",
              "      <td>NaN</td>\n",
              "      <td>NaN</td>\n",
              "      <td>40.676566</td>\n",
              "      <td>-74.011100</td>\n",
              "      <td>(40.6765664690211, -74.01110036402942)</td>\n",
              "    </tr>\n",
              "    <tr>\n",
              "      <th>921</th>\n",
              "      <td>54052476</td>\n",
              "      <td>05/01/2022 02:05:38 AM</td>\n",
              "      <td>NaN</td>\n",
              "      <td>NYPD</td>\n",
              "      <td>New York City Police Department</td>\n",
              "      <td>Noise - Residential</td>\n",
              "      <td>Loud Music/Party</td>\n",
              "      <td>Residential Building/House</td>\n",
              "      <td>11208.0</td>\n",
              "      <td>37 HEMLOCK STREET</td>\n",
              "      <td>...</td>\n",
              "      <td>NaN</td>\n",
              "      <td>NaN</td>\n",
              "      <td>NaN</td>\n",
              "      <td>NaN</td>\n",
              "      <td>NaN</td>\n",
              "      <td>NaN</td>\n",
              "      <td>NaN</td>\n",
              "      <td>40.688911</td>\n",
              "      <td>-73.872353</td>\n",
              "      <td>(40.68891081481749, -73.87235278581583)</td>\n",
              "    </tr>\n",
              "    <tr>\n",
              "      <th>922</th>\n",
              "      <td>54053504</td>\n",
              "      <td>05/01/2022 02:06:13 AM</td>\n",
              "      <td>NaN</td>\n",
              "      <td>NYPD</td>\n",
              "      <td>New York City Police Department</td>\n",
              "      <td>Illegal Parking</td>\n",
              "      <td>Overnight Commercial Storage</td>\n",
              "      <td>Street/Sidewalk</td>\n",
              "      <td>11373.0</td>\n",
              "      <td>60-42 BOOTH STREET</td>\n",
              "      <td>...</td>\n",
              "      <td>NaN</td>\n",
              "      <td>NaN</td>\n",
              "      <td>NaN</td>\n",
              "      <td>NaN</td>\n",
              "      <td>NaN</td>\n",
              "      <td>NaN</td>\n",
              "      <td>NaN</td>\n",
              "      <td>40.731194</td>\n",
              "      <td>-73.869533</td>\n",
              "      <td>(40.73119351356087, -73.86953320857873)</td>\n",
              "    </tr>\n",
              "    <tr>\n",
              "      <th>923</th>\n",
              "      <td>54048300</td>\n",
              "      <td>05/01/2022 02:06:26 AM</td>\n",
              "      <td>NaN</td>\n",
              "      <td>NYPD</td>\n",
              "      <td>New York City Police Department</td>\n",
              "      <td>Noise - Vehicle</td>\n",
              "      <td>Car/Truck Music</td>\n",
              "      <td>Street/Sidewalk</td>\n",
              "      <td>11210.0</td>\n",
              "      <td>723 EAST   27 STREET</td>\n",
              "      <td>...</td>\n",
              "      <td>NaN</td>\n",
              "      <td>NaN</td>\n",
              "      <td>NaN</td>\n",
              "      <td>NaN</td>\n",
              "      <td>NaN</td>\n",
              "      <td>NaN</td>\n",
              "      <td>NaN</td>\n",
              "      <td>40.633076</td>\n",
              "      <td>-73.950965</td>\n",
              "      <td>(40.633076468003175, -73.95096540810518)</td>\n",
              "    </tr>\n",
              "  </tbody>\n",
              "</table>\n",
              "<p>924 rows × 41 columns</p>\n",
              "</div>\n",
              "      <button class=\"colab-df-convert\" onclick=\"convertToInteractive('df-4b146ac2-6129-4877-ae30-bccc36bb882e')\"\n",
              "              title=\"Convert this dataframe to an interactive table.\"\n",
              "              style=\"display:none;\">\n",
              "        \n",
              "  <svg xmlns=\"http://www.w3.org/2000/svg\" height=\"24px\"viewBox=\"0 0 24 24\"\n",
              "       width=\"24px\">\n",
              "    <path d=\"M0 0h24v24H0V0z\" fill=\"none\"/>\n",
              "    <path d=\"M18.56 5.44l.94 2.06.94-2.06 2.06-.94-2.06-.94-.94-2.06-.94 2.06-2.06.94zm-11 1L8.5 8.5l.94-2.06 2.06-.94-2.06-.94L8.5 2.5l-.94 2.06-2.06.94zm10 10l.94 2.06.94-2.06 2.06-.94-2.06-.94-.94-2.06-.94 2.06-2.06.94z\"/><path d=\"M17.41 7.96l-1.37-1.37c-.4-.4-.92-.59-1.43-.59-.52 0-1.04.2-1.43.59L10.3 9.45l-7.72 7.72c-.78.78-.78 2.05 0 2.83L4 21.41c.39.39.9.59 1.41.59.51 0 1.02-.2 1.41-.59l7.78-7.78 2.81-2.81c.8-.78.8-2.07 0-2.86zM5.41 20L4 18.59l7.72-7.72 1.47 1.35L5.41 20z\"/>\n",
              "  </svg>\n",
              "      </button>\n",
              "      \n",
              "  <style>\n",
              "    .colab-df-container {\n",
              "      display:flex;\n",
              "      flex-wrap:wrap;\n",
              "      gap: 12px;\n",
              "    }\n",
              "\n",
              "    .colab-df-convert {\n",
              "      background-color: #E8F0FE;\n",
              "      border: none;\n",
              "      border-radius: 50%;\n",
              "      cursor: pointer;\n",
              "      display: none;\n",
              "      fill: #1967D2;\n",
              "      height: 32px;\n",
              "      padding: 0 0 0 0;\n",
              "      width: 32px;\n",
              "    }\n",
              "\n",
              "    .colab-df-convert:hover {\n",
              "      background-color: #E2EBFA;\n",
              "      box-shadow: 0px 1px 2px rgba(60, 64, 67, 0.3), 0px 1px 3px 1px rgba(60, 64, 67, 0.15);\n",
              "      fill: #174EA6;\n",
              "    }\n",
              "\n",
              "    [theme=dark] .colab-df-convert {\n",
              "      background-color: #3B4455;\n",
              "      fill: #D2E3FC;\n",
              "    }\n",
              "\n",
              "    [theme=dark] .colab-df-convert:hover {\n",
              "      background-color: #434B5C;\n",
              "      box-shadow: 0px 1px 3px 1px rgba(0, 0, 0, 0.15);\n",
              "      filter: drop-shadow(0px 1px 2px rgba(0, 0, 0, 0.3));\n",
              "      fill: #FFFFFF;\n",
              "    }\n",
              "  </style>\n",
              "\n",
              "      <script>\n",
              "        const buttonEl =\n",
              "          document.querySelector('#df-4b146ac2-6129-4877-ae30-bccc36bb882e button.colab-df-convert');\n",
              "        buttonEl.style.display =\n",
              "          google.colab.kernel.accessAllowed ? 'block' : 'none';\n",
              "\n",
              "        async function convertToInteractive(key) {\n",
              "          const element = document.querySelector('#df-4b146ac2-6129-4877-ae30-bccc36bb882e');\n",
              "          const dataTable =\n",
              "            await google.colab.kernel.invokeFunction('convertToInteractive',\n",
              "                                                     [key], {});\n",
              "          if (!dataTable) return;\n",
              "\n",
              "          const docLinkHtml = 'Like what you see? Visit the ' +\n",
              "            '<a target=\"_blank\" href=https://colab.research.google.com/notebooks/data_table.ipynb>data table notebook</a>'\n",
              "            + ' to learn more about interactive tables.';\n",
              "          element.innerHTML = '';\n",
              "          dataTable['output_type'] = 'display_data';\n",
              "          await google.colab.output.renderOutput(dataTable, element);\n",
              "          const docLink = document.createElement('div');\n",
              "          docLink.innerHTML = docLinkHtml;\n",
              "          element.appendChild(docLink);\n",
              "        }\n",
              "      </script>\n",
              "    </div>\n",
              "  </div>\n",
              "  "
            ]
          },
          "metadata": {},
          "execution_count": 89
        }
      ]
    },
    {
      "cell_type": "code",
      "source": [
        "df.shape #non vuole le parentesi"
      ],
      "metadata": {
        "colab": {
          "base_uri": "https://localhost:8080/"
        },
        "id": "JmEBrJClVfbI",
        "outputId": "2fa76849-eece-4ffb-8e91-b0aced647bc0"
      },
      "execution_count": 90,
      "outputs": [
        {
          "output_type": "execute_result",
          "data": {
            "text/plain": [
              "(924, 41)"
            ]
          },
          "metadata": {},
          "execution_count": 90
        }
      ]
    },
    {
      "cell_type": "code",
      "source": [
        "df.columns #non vuole le parentesi\n",
        "#nomi delle colonne, che le identificano. "
      ],
      "metadata": {
        "colab": {
          "base_uri": "https://localhost:8080/"
        },
        "id": "JSgOs4fcVxlp",
        "outputId": "7b5ccdce-8940-478a-94b1-83870bf8de90"
      },
      "execution_count": 91,
      "outputs": [
        {
          "output_type": "execute_result",
          "data": {
            "text/plain": [
              "Index(['Unique Key', 'Created Date', 'Closed Date', 'Agency', 'Agency Name',\n",
              "       'Complaint Type', 'Descriptor', 'Location Type', 'Incident Zip',\n",
              "       'Incident Address', 'Street Name', 'Cross Street 1', 'Cross Street 2',\n",
              "       'Intersection Street 1', 'Intersection Street 2', 'Address Type',\n",
              "       'City', 'Landmark', 'Facility Type', 'Status', 'Due Date',\n",
              "       'Resolution Description', 'Resolution Action Updated Date',\n",
              "       'Community Board', 'BBL', 'Borough', 'X Coordinate (State Plane)',\n",
              "       'Y Coordinate (State Plane)', 'Open Data Channel Type',\n",
              "       'Park Facility Name', 'Park Borough', 'Vehicle Type',\n",
              "       'Taxi Company Borough', 'Taxi Pick Up Location', 'Bridge Highway Name',\n",
              "       'Bridge Highway Direction', 'Road Ramp', 'Bridge Highway Segment',\n",
              "       'Latitude', 'Longitude', 'Location'],\n",
              "      dtype='object')"
            ]
          },
          "metadata": {},
          "execution_count": 91
        }
      ]
    },
    {
      "cell_type": "code",
      "source": [
        "df.iloc[0] #index location\n",
        "#restituisce pandas series, cioè la prima riga"
      ],
      "metadata": {
        "colab": {
          "base_uri": "https://localhost:8080/"
        },
        "id": "X7nn5d0_V76S",
        "outputId": "46615b12-302b-4347-f58e-2ecd47e3f17c"
      },
      "execution_count": 92,
      "outputs": [
        {
          "output_type": "execute_result",
          "data": {
            "text/plain": [
              "Unique Key                                                       54049402\n",
              "Created Date                                       05/01/2022 12:00:03 AM\n",
              "Closed Date                                                           NaN\n",
              "Agency                                                               NYPD\n",
              "Agency Name                               New York City Police Department\n",
              "Complaint Type                                        Noise - Residential\n",
              "Descriptor                                               Loud Music/Party\n",
              "Location Type                                  Residential Building/House\n",
              "Incident Zip                                                      10452.0\n",
              "Incident Address                                       1006 GERARD AVENUE\n",
              "Street Name                                                 GERARD AVENUE\n",
              "Cross Street 1                                           EAST  164 STREET\n",
              "Cross Street 2                                           EAST  165 STREET\n",
              "Intersection Street 1                                    EAST  164 STREET\n",
              "Intersection Street 2                                    EAST  165 STREET\n",
              "Address Type                                                      ADDRESS\n",
              "City                                                                BRONX\n",
              "Landmark                                                    GERARD AVENUE\n",
              "Facility Type                                                         NaN\n",
              "Status                                                        In Progress\n",
              "Due Date                                                              NaN\n",
              "Resolution Description                                                NaN\n",
              "Resolution Action Updated Date                                        NaN\n",
              "Community Board                                                  04 BRONX\n",
              "BBL                                                          2024770001.0\n",
              "Borough                                                             BRONX\n",
              "X Coordinate (State Plane)                                      1005536.0\n",
              "Y Coordinate (State Plane)                                       241916.0\n",
              "Open Data Channel Type                                             ONLINE\n",
              "Park Facility Name                                            Unspecified\n",
              "Park Borough                                                        BRONX\n",
              "Vehicle Type                                                          NaN\n",
              "Taxi Company Borough                                                  NaN\n",
              "Taxi Pick Up Location                                                 NaN\n",
              "Bridge Highway Name                                                   NaN\n",
              "Bridge Highway Direction                                              NaN\n",
              "Road Ramp                                                             NaN\n",
              "Bridge Highway Segment                                                NaN\n",
              "Latitude                                                        40.830653\n",
              "Longitude                                                      -73.923082\n",
              "Location                          (40.83065331987539, -73.92308231033165)\n",
              "Name: 0, dtype: object"
            ]
          },
          "metadata": {},
          "execution_count": 92
        }
      ]
    },
    {
      "cell_type": "code",
      "source": [
        "df.iloc[:,1]"
      ],
      "metadata": {
        "colab": {
          "base_uri": "https://localhost:8080/"
        },
        "id": "A2NAbmH5WyxL",
        "outputId": "d88bdef6-6200-4e24-9db8-3dd3e1e1440e"
      },
      "execution_count": 93,
      "outputs": [
        {
          "output_type": "execute_result",
          "data": {
            "text/plain": [
              "0      05/01/2022 12:00:03 AM\n",
              "1      05/01/2022 12:00:09 AM\n",
              "2      05/01/2022 12:00:17 AM\n",
              "3      05/01/2022 12:00:21 AM\n",
              "4      05/01/2022 12:00:25 AM\n",
              "                ...          \n",
              "919    05/01/2022 02:04:45 AM\n",
              "920    05/01/2022 02:05:35 AM\n",
              "921    05/01/2022 02:05:38 AM\n",
              "922    05/01/2022 02:06:13 AM\n",
              "923    05/01/2022 02:06:26 AM\n",
              "Name: Created Date, Length: 924, dtype: object"
            ]
          },
          "metadata": {},
          "execution_count": 93
        }
      ]
    },
    {
      "cell_type": "code",
      "source": [
        "df.loc[:,\"\"]#loc se so il nome, iloc  se so l'indice"
      ],
      "metadata": {
        "id": "WJcD4fMAW9BM"
      },
      "execution_count": null,
      "outputs": []
    },
    {
      "cell_type": "code",
      "source": [
        "urlbis=\"https://raw.githubusercontent.com/fedhere/UInotebooks/master/dataWrangling/movies.dat\""
      ],
      "metadata": {
        "id": "lBM7_PJGXMtu"
      },
      "execution_count": 94,
      "outputs": []
    },
    {
      "cell_type": "code",
      "source": [
        "pd.read_csv(urlbis, sep=\"::\", index_col=0, header=None) \n",
        "#separatore che è :: e non volgio la prima riga, perchè c'è già l'indice, e gli dico che non ha un intestazione"
      ],
      "metadata": {
        "colab": {
          "base_uri": "https://localhost:8080/",
          "height": 512
        },
        "id": "flpJuGX0XuAm",
        "outputId": "fd8cd72a-36bc-4948-cb82-e765821305e4"
      },
      "execution_count": 95,
      "outputs": [
        {
          "output_type": "stream",
          "name": "stderr",
          "text": [
            "/usr/local/lib/python3.9/dist-packages/pandas/util/_decorators.py:311: ParserWarning: Falling back to the 'python' engine because the 'c' engine does not support regex separators (separators > 1 char and different from '\\s+' are interpreted as regex); you can avoid this warning by specifying engine='python'.\n",
            "  return func(*args, **kwargs)\n"
          ]
        },
        {
          "output_type": "execute_result",
          "data": {
            "text/plain": [
              "                                       1                             2\n",
              "0                                                                     \n",
              "1                       Toy Story (1995)   Animation|Children's|Comedy\n",
              "2                         Jumanji (1995)  Adventure|Children's|Fantasy\n",
              "3                Grumpier Old Men (1995)                Comedy|Romance\n",
              "4               Waiting to Exhale (1995)                  Comedy|Drama\n",
              "5     Father of the Bride Part II (1995)                        Comedy\n",
              "...                                  ...                           ...\n",
              "3948             Meet the Parents (2000)                        Comedy\n",
              "3949          Requiem for a Dream (2000)                         Drama\n",
              "3950                    Tigerland (2000)                         Drama\n",
              "3951             Two Family House (2000)                         Drama\n",
              "3952               Contender, The (2000)                Drama|Thriller\n",
              "\n",
              "[3883 rows x 2 columns]"
            ],
            "text/html": [
              "\n",
              "  <div id=\"df-34b6d7fe-d8c1-4aa4-ab19-79e376e49fc0\">\n",
              "    <div class=\"colab-df-container\">\n",
              "      <div>\n",
              "<style scoped>\n",
              "    .dataframe tbody tr th:only-of-type {\n",
              "        vertical-align: middle;\n",
              "    }\n",
              "\n",
              "    .dataframe tbody tr th {\n",
              "        vertical-align: top;\n",
              "    }\n",
              "\n",
              "    .dataframe thead th {\n",
              "        text-align: right;\n",
              "    }\n",
              "</style>\n",
              "<table border=\"1\" class=\"dataframe\">\n",
              "  <thead>\n",
              "    <tr style=\"text-align: right;\">\n",
              "      <th></th>\n",
              "      <th>1</th>\n",
              "      <th>2</th>\n",
              "    </tr>\n",
              "    <tr>\n",
              "      <th>0</th>\n",
              "      <th></th>\n",
              "      <th></th>\n",
              "    </tr>\n",
              "  </thead>\n",
              "  <tbody>\n",
              "    <tr>\n",
              "      <th>1</th>\n",
              "      <td>Toy Story (1995)</td>\n",
              "      <td>Animation|Children's|Comedy</td>\n",
              "    </tr>\n",
              "    <tr>\n",
              "      <th>2</th>\n",
              "      <td>Jumanji (1995)</td>\n",
              "      <td>Adventure|Children's|Fantasy</td>\n",
              "    </tr>\n",
              "    <tr>\n",
              "      <th>3</th>\n",
              "      <td>Grumpier Old Men (1995)</td>\n",
              "      <td>Comedy|Romance</td>\n",
              "    </tr>\n",
              "    <tr>\n",
              "      <th>4</th>\n",
              "      <td>Waiting to Exhale (1995)</td>\n",
              "      <td>Comedy|Drama</td>\n",
              "    </tr>\n",
              "    <tr>\n",
              "      <th>5</th>\n",
              "      <td>Father of the Bride Part II (1995)</td>\n",
              "      <td>Comedy</td>\n",
              "    </tr>\n",
              "    <tr>\n",
              "      <th>...</th>\n",
              "      <td>...</td>\n",
              "      <td>...</td>\n",
              "    </tr>\n",
              "    <tr>\n",
              "      <th>3948</th>\n",
              "      <td>Meet the Parents (2000)</td>\n",
              "      <td>Comedy</td>\n",
              "    </tr>\n",
              "    <tr>\n",
              "      <th>3949</th>\n",
              "      <td>Requiem for a Dream (2000)</td>\n",
              "      <td>Drama</td>\n",
              "    </tr>\n",
              "    <tr>\n",
              "      <th>3950</th>\n",
              "      <td>Tigerland (2000)</td>\n",
              "      <td>Drama</td>\n",
              "    </tr>\n",
              "    <tr>\n",
              "      <th>3951</th>\n",
              "      <td>Two Family House (2000)</td>\n",
              "      <td>Drama</td>\n",
              "    </tr>\n",
              "    <tr>\n",
              "      <th>3952</th>\n",
              "      <td>Contender, The (2000)</td>\n",
              "      <td>Drama|Thriller</td>\n",
              "    </tr>\n",
              "  </tbody>\n",
              "</table>\n",
              "<p>3883 rows × 2 columns</p>\n",
              "</div>\n",
              "      <button class=\"colab-df-convert\" onclick=\"convertToInteractive('df-34b6d7fe-d8c1-4aa4-ab19-79e376e49fc0')\"\n",
              "              title=\"Convert this dataframe to an interactive table.\"\n",
              "              style=\"display:none;\">\n",
              "        \n",
              "  <svg xmlns=\"http://www.w3.org/2000/svg\" height=\"24px\"viewBox=\"0 0 24 24\"\n",
              "       width=\"24px\">\n",
              "    <path d=\"M0 0h24v24H0V0z\" fill=\"none\"/>\n",
              "    <path d=\"M18.56 5.44l.94 2.06.94-2.06 2.06-.94-2.06-.94-.94-2.06-.94 2.06-2.06.94zm-11 1L8.5 8.5l.94-2.06 2.06-.94-2.06-.94L8.5 2.5l-.94 2.06-2.06.94zm10 10l.94 2.06.94-2.06 2.06-.94-2.06-.94-.94-2.06-.94 2.06-2.06.94z\"/><path d=\"M17.41 7.96l-1.37-1.37c-.4-.4-.92-.59-1.43-.59-.52 0-1.04.2-1.43.59L10.3 9.45l-7.72 7.72c-.78.78-.78 2.05 0 2.83L4 21.41c.39.39.9.59 1.41.59.51 0 1.02-.2 1.41-.59l7.78-7.78 2.81-2.81c.8-.78.8-2.07 0-2.86zM5.41 20L4 18.59l7.72-7.72 1.47 1.35L5.41 20z\"/>\n",
              "  </svg>\n",
              "      </button>\n",
              "      \n",
              "  <style>\n",
              "    .colab-df-container {\n",
              "      display:flex;\n",
              "      flex-wrap:wrap;\n",
              "      gap: 12px;\n",
              "    }\n",
              "\n",
              "    .colab-df-convert {\n",
              "      background-color: #E8F0FE;\n",
              "      border: none;\n",
              "      border-radius: 50%;\n",
              "      cursor: pointer;\n",
              "      display: none;\n",
              "      fill: #1967D2;\n",
              "      height: 32px;\n",
              "      padding: 0 0 0 0;\n",
              "      width: 32px;\n",
              "    }\n",
              "\n",
              "    .colab-df-convert:hover {\n",
              "      background-color: #E2EBFA;\n",
              "      box-shadow: 0px 1px 2px rgba(60, 64, 67, 0.3), 0px 1px 3px 1px rgba(60, 64, 67, 0.15);\n",
              "      fill: #174EA6;\n",
              "    }\n",
              "\n",
              "    [theme=dark] .colab-df-convert {\n",
              "      background-color: #3B4455;\n",
              "      fill: #D2E3FC;\n",
              "    }\n",
              "\n",
              "    [theme=dark] .colab-df-convert:hover {\n",
              "      background-color: #434B5C;\n",
              "      box-shadow: 0px 1px 3px 1px rgba(0, 0, 0, 0.15);\n",
              "      filter: drop-shadow(0px 1px 2px rgba(0, 0, 0, 0.3));\n",
              "      fill: #FFFFFF;\n",
              "    }\n",
              "  </style>\n",
              "\n",
              "      <script>\n",
              "        const buttonEl =\n",
              "          document.querySelector('#df-34b6d7fe-d8c1-4aa4-ab19-79e376e49fc0 button.colab-df-convert');\n",
              "        buttonEl.style.display =\n",
              "          google.colab.kernel.accessAllowed ? 'block' : 'none';\n",
              "\n",
              "        async function convertToInteractive(key) {\n",
              "          const element = document.querySelector('#df-34b6d7fe-d8c1-4aa4-ab19-79e376e49fc0');\n",
              "          const dataTable =\n",
              "            await google.colab.kernel.invokeFunction('convertToInteractive',\n",
              "                                                     [key], {});\n",
              "          if (!dataTable) return;\n",
              "\n",
              "          const docLinkHtml = 'Like what you see? Visit the ' +\n",
              "            '<a target=\"_blank\" href=https://colab.research.google.com/notebooks/data_table.ipynb>data table notebook</a>'\n",
              "            + ' to learn more about interactive tables.';\n",
              "          element.innerHTML = '';\n",
              "          dataTable['output_type'] = 'display_data';\n",
              "          await google.colab.output.renderOutput(dataTable, element);\n",
              "          const docLink = document.createElement('div');\n",
              "          docLink.innerHTML = docLinkHtml;\n",
              "          element.appendChild(docLink);\n",
              "        }\n",
              "      </script>\n",
              "    </div>\n",
              "  </div>\n",
              "  "
            ]
          },
          "metadata": {},
          "execution_count": 95
        }
      ]
    },
    {
      "cell_type": "code",
      "source": [
        "colnames=[\"title\", \"genre\"] \n",
        "movies=pd.read_csv(urlbis, sep=\"::\", index_col=0, header=None, names=colnames) "
      ],
      "metadata": {
        "colab": {
          "base_uri": "https://localhost:8080/"
        },
        "id": "38pN0tchYeEY",
        "outputId": "746c44b3-0f17-4a95-f4ec-3ef1868e31fa"
      },
      "execution_count": 98,
      "outputs": [
        {
          "output_type": "stream",
          "name": "stderr",
          "text": [
            "/usr/local/lib/python3.9/dist-packages/pandas/util/_decorators.py:311: ParserWarning: Falling back to the 'python' engine because the 'c' engine does not support regex separators (separators > 1 char and different from '\\s+' are interpreted as regex); you can avoid this warning by specifying engine='python'.\n",
            "  return func(*args, **kwargs)\n"
          ]
        }
      ]
    },
    {
      "cell_type": "code",
      "source": [
        "type(movies)"
      ],
      "metadata": {
        "colab": {
          "base_uri": "https://localhost:8080/"
        },
        "id": "g8jUM_slYeCA",
        "outputId": "455988ac-0e3f-4b1b-d358-2ed991a67bfb"
      },
      "execution_count": 99,
      "outputs": [
        {
          "output_type": "execute_result",
          "data": {
            "text/plain": [
              "pandas.core.frame.DataFrame"
            ]
          },
          "metadata": {},
          "execution_count": 99
        }
      ]
    },
    {
      "cell_type": "code",
      "source": [
        "movies.loc[:,\"title\"]"
      ],
      "metadata": {
        "colab": {
          "base_uri": "https://localhost:8080/"
        },
        "id": "dh_KMBc9Yd_G",
        "outputId": "7d981cd9-12dd-44b9-e4b7-6e0aed154388"
      },
      "execution_count": 100,
      "outputs": [
        {
          "output_type": "execute_result",
          "data": {
            "text/plain": [
              "1                         Toy Story (1995)\n",
              "2                           Jumanji (1995)\n",
              "3                  Grumpier Old Men (1995)\n",
              "4                 Waiting to Exhale (1995)\n",
              "5       Father of the Bride Part II (1995)\n",
              "                       ...                \n",
              "3948               Meet the Parents (2000)\n",
              "3949            Requiem for a Dream (2000)\n",
              "3950                      Tigerland (2000)\n",
              "3951               Two Family House (2000)\n",
              "3952                 Contender, The (2000)\n",
              "Name: title, Length: 3883, dtype: object"
            ]
          },
          "metadata": {},
          "execution_count": 100
        }
      ]
    },
    {
      "cell_type": "code",
      "source": [
        "movies[\"title\"]"
      ],
      "metadata": {
        "colab": {
          "base_uri": "https://localhost:8080/"
        },
        "id": "oQQCaWM1Yd8g",
        "outputId": "4a8433e1-ed84-44c7-8794-f9cda3b4b8a8"
      },
      "execution_count": 101,
      "outputs": [
        {
          "output_type": "execute_result",
          "data": {
            "text/plain": [
              "1                         Toy Story (1995)\n",
              "2                           Jumanji (1995)\n",
              "3                  Grumpier Old Men (1995)\n",
              "4                 Waiting to Exhale (1995)\n",
              "5       Father of the Bride Part II (1995)\n",
              "                       ...                \n",
              "3948               Meet the Parents (2000)\n",
              "3949            Requiem for a Dream (2000)\n",
              "3950                      Tigerland (2000)\n",
              "3951               Two Family House (2000)\n",
              "3952                 Contender, The (2000)\n",
              "Name: title, Length: 3883, dtype: object"
            ]
          },
          "metadata": {},
          "execution_count": 101
        }
      ]
    },
    {
      "cell_type": "code",
      "source": [
        "movies.title"
      ],
      "metadata": {
        "colab": {
          "base_uri": "https://localhost:8080/"
        },
        "id": "W4GGZdTvZOk9",
        "outputId": "6a8823f2-fa12-4b49-f93f-ad89cb39f674"
      },
      "execution_count": 102,
      "outputs": [
        {
          "output_type": "execute_result",
          "data": {
            "text/plain": [
              "1                         Toy Story (1995)\n",
              "2                           Jumanji (1995)\n",
              "3                  Grumpier Old Men (1995)\n",
              "4                 Waiting to Exhale (1995)\n",
              "5       Father of the Bride Part II (1995)\n",
              "                       ...                \n",
              "3948               Meet the Parents (2000)\n",
              "3949            Requiem for a Dream (2000)\n",
              "3950                      Tigerland (2000)\n",
              "3951               Two Family House (2000)\n",
              "3952                 Contender, The (2000)\n",
              "Name: title, Length: 3883, dtype: object"
            ]
          },
          "metadata": {},
          "execution_count": 102
        }
      ]
    },
    {
      "cell_type": "code",
      "source": [
        "movies[\"genre\"].unique"
      ],
      "metadata": {
        "colab": {
          "base_uri": "https://localhost:8080/"
        },
        "id": "UvRHGFmoZUkE",
        "outputId": "161ac402-71c3-43e3-ea65-013a3c18c6a5"
      },
      "execution_count": 103,
      "outputs": [
        {
          "output_type": "execute_result",
          "data": {
            "text/plain": [
              "<bound method Series.unique of 1        Animation|Children's|Comedy\n",
              "2       Adventure|Children's|Fantasy\n",
              "3                     Comedy|Romance\n",
              "4                       Comedy|Drama\n",
              "5                             Comedy\n",
              "                    ...             \n",
              "3948                          Comedy\n",
              "3949                           Drama\n",
              "3950                           Drama\n",
              "3951                           Drama\n",
              "3952                  Drama|Thriller\n",
              "Name: genre, Length: 3883, dtype: object>"
            ]
          },
          "metadata": {},
          "execution_count": 103
        }
      ]
    },
    {
      "cell_type": "code",
      "source": [
        "len(movies[\"genre\"].unique())"
      ],
      "metadata": {
        "colab": {
          "base_uri": "https://localhost:8080/"
        },
        "id": "ZfmCzoAtZfKc",
        "outputId": "1351b0c6-a484-43c6-e66d-ff7ce2b521b2"
      },
      "execution_count": 105,
      "outputs": [
        {
          "output_type": "execute_result",
          "data": {
            "text/plain": [
              "301"
            ]
          },
          "metadata": {},
          "execution_count": 105
        }
      ]
    },
    {
      "cell_type": "code",
      "source": [
        "\"Toy Story (1995)\".split()[2] #divide le parole in una lista con il separatore scritto tra parentesi\n",
        "#per indexare l'ultimo elemento si può fare semplicemnte [-1]"
      ],
      "metadata": {
        "colab": {
          "base_uri": "https://localhost:8080/",
          "height": 36
        },
        "id": "I0OauFZyZsNQ",
        "outputId": "7e1facad-9b97-4208-b550-dc049e7e5c4b"
      },
      "execution_count": 106,
      "outputs": [
        {
          "output_type": "execute_result",
          "data": {
            "text/plain": [
              "'(1995)'"
            ],
            "application/vnd.google.colaboratory.intrinsic+json": {
              "type": "string"
            }
          },
          "metadata": {},
          "execution_count": 106
        }
      ]
    },
    {
      "cell_type": "code",
      "source": [
        "\"Toy Story (1995)\".split()[2].reaplce('(','').strip(\")\",\"\")\n"
      ],
      "metadata": {
        "colab": {
          "base_uri": "https://localhost:8080/",
          "height": 172
        },
        "id": "KZZsUEMcZsKM",
        "outputId": "7121fb34-8d77-4067-abdf-dfba05b42984"
      },
      "execution_count": 107,
      "outputs": [
        {
          "output_type": "error",
          "ename": "AttributeError",
          "evalue": "ignored",
          "traceback": [
            "\u001b[0;31m---------------------------------------------------------------------------\u001b[0m",
            "\u001b[0;31mAttributeError\u001b[0m                            Traceback (most recent call last)",
            "\u001b[0;32m<ipython-input-107-c8e22db54515>\u001b[0m in \u001b[0;36m<module>\u001b[0;34m\u001b[0m\n\u001b[0;32m----> 1\u001b[0;31m \u001b[0;34m\"Toy Story (1995)\"\u001b[0m\u001b[0;34m.\u001b[0m\u001b[0msplit\u001b[0m\u001b[0;34m(\u001b[0m\u001b[0;34m)\u001b[0m\u001b[0;34m[\u001b[0m\u001b[0;36m2\u001b[0m\u001b[0;34m]\u001b[0m\u001b[0;34m.\u001b[0m\u001b[0mreaplce\u001b[0m\u001b[0;34m(\u001b[0m\u001b[0;34m'('\u001b[0m\u001b[0;34m,\u001b[0m\u001b[0;34m''\u001b[0m\u001b[0;34m)\u001b[0m\u001b[0;34m.\u001b[0m\u001b[0mstrip\u001b[0m\u001b[0;34m(\u001b[0m\u001b[0;34m\")\"\u001b[0m\u001b[0;34m,\u001b[0m\u001b[0;34m\"\"\u001b[0m\u001b[0;34m)\u001b[0m\u001b[0;34m\u001b[0m\u001b[0;34m\u001b[0m\u001b[0m\n\u001b[0m",
            "\u001b[0;31mAttributeError\u001b[0m: 'str' object has no attribute 'reaplce'"
          ]
        }
      ]
    },
    {
      "cell_type": "code",
      "source": [
        "def get_year(mtitle):\n",
        "  return int(mtitle.split(\"(\")[-1].strip(')',))"
      ],
      "metadata": {
        "id": "wW8ccQDnZsHP"
      },
      "execution_count": 111,
      "outputs": []
    },
    {
      "cell_type": "code",
      "source": [
        "movies['year']=movies[\"title\"].map(get_year)"
      ],
      "metadata": {
        "id": "YKyRC2SZZsD9"
      },
      "execution_count": 118,
      "outputs": []
    },
    {
      "cell_type": "code",
      "source": [
        "movies.groupby(\"year\").count()"
      ],
      "metadata": {
        "colab": {
          "base_uri": "https://localhost:8080/",
          "height": 455
        },
        "id": "WQm34SlAZsBF",
        "outputId": "1f4daa07-459d-420b-93c1-14359c2dc3af"
      },
      "execution_count": 119,
      "outputs": [
        {
          "output_type": "execute_result",
          "data": {
            "text/plain": [
              "      title  genre\n",
              "year              \n",
              "1919      3      3\n",
              "1920      2      2\n",
              "1921      1      1\n",
              "1922      2      2\n",
              "1923      3      3\n",
              "...     ...    ...\n",
              "1996    345    345\n",
              "1997    315    315\n",
              "1998    337    337\n",
              "1999    283    283\n",
              "2000    156    156\n",
              "\n",
              "[81 rows x 2 columns]"
            ],
            "text/html": [
              "\n",
              "  <div id=\"df-adf24b73-e9c2-4e64-b0d6-cdab922a7854\">\n",
              "    <div class=\"colab-df-container\">\n",
              "      <div>\n",
              "<style scoped>\n",
              "    .dataframe tbody tr th:only-of-type {\n",
              "        vertical-align: middle;\n",
              "    }\n",
              "\n",
              "    .dataframe tbody tr th {\n",
              "        vertical-align: top;\n",
              "    }\n",
              "\n",
              "    .dataframe thead th {\n",
              "        text-align: right;\n",
              "    }\n",
              "</style>\n",
              "<table border=\"1\" class=\"dataframe\">\n",
              "  <thead>\n",
              "    <tr style=\"text-align: right;\">\n",
              "      <th></th>\n",
              "      <th>title</th>\n",
              "      <th>genre</th>\n",
              "    </tr>\n",
              "    <tr>\n",
              "      <th>year</th>\n",
              "      <th></th>\n",
              "      <th></th>\n",
              "    </tr>\n",
              "  </thead>\n",
              "  <tbody>\n",
              "    <tr>\n",
              "      <th>1919</th>\n",
              "      <td>3</td>\n",
              "      <td>3</td>\n",
              "    </tr>\n",
              "    <tr>\n",
              "      <th>1920</th>\n",
              "      <td>2</td>\n",
              "      <td>2</td>\n",
              "    </tr>\n",
              "    <tr>\n",
              "      <th>1921</th>\n",
              "      <td>1</td>\n",
              "      <td>1</td>\n",
              "    </tr>\n",
              "    <tr>\n",
              "      <th>1922</th>\n",
              "      <td>2</td>\n",
              "      <td>2</td>\n",
              "    </tr>\n",
              "    <tr>\n",
              "      <th>1923</th>\n",
              "      <td>3</td>\n",
              "      <td>3</td>\n",
              "    </tr>\n",
              "    <tr>\n",
              "      <th>...</th>\n",
              "      <td>...</td>\n",
              "      <td>...</td>\n",
              "    </tr>\n",
              "    <tr>\n",
              "      <th>1996</th>\n",
              "      <td>345</td>\n",
              "      <td>345</td>\n",
              "    </tr>\n",
              "    <tr>\n",
              "      <th>1997</th>\n",
              "      <td>315</td>\n",
              "      <td>315</td>\n",
              "    </tr>\n",
              "    <tr>\n",
              "      <th>1998</th>\n",
              "      <td>337</td>\n",
              "      <td>337</td>\n",
              "    </tr>\n",
              "    <tr>\n",
              "      <th>1999</th>\n",
              "      <td>283</td>\n",
              "      <td>283</td>\n",
              "    </tr>\n",
              "    <tr>\n",
              "      <th>2000</th>\n",
              "      <td>156</td>\n",
              "      <td>156</td>\n",
              "    </tr>\n",
              "  </tbody>\n",
              "</table>\n",
              "<p>81 rows × 2 columns</p>\n",
              "</div>\n",
              "      <button class=\"colab-df-convert\" onclick=\"convertToInteractive('df-adf24b73-e9c2-4e64-b0d6-cdab922a7854')\"\n",
              "              title=\"Convert this dataframe to an interactive table.\"\n",
              "              style=\"display:none;\">\n",
              "        \n",
              "  <svg xmlns=\"http://www.w3.org/2000/svg\" height=\"24px\"viewBox=\"0 0 24 24\"\n",
              "       width=\"24px\">\n",
              "    <path d=\"M0 0h24v24H0V0z\" fill=\"none\"/>\n",
              "    <path d=\"M18.56 5.44l.94 2.06.94-2.06 2.06-.94-2.06-.94-.94-2.06-.94 2.06-2.06.94zm-11 1L8.5 8.5l.94-2.06 2.06-.94-2.06-.94L8.5 2.5l-.94 2.06-2.06.94zm10 10l.94 2.06.94-2.06 2.06-.94-2.06-.94-.94-2.06-.94 2.06-2.06.94z\"/><path d=\"M17.41 7.96l-1.37-1.37c-.4-.4-.92-.59-1.43-.59-.52 0-1.04.2-1.43.59L10.3 9.45l-7.72 7.72c-.78.78-.78 2.05 0 2.83L4 21.41c.39.39.9.59 1.41.59.51 0 1.02-.2 1.41-.59l7.78-7.78 2.81-2.81c.8-.78.8-2.07 0-2.86zM5.41 20L4 18.59l7.72-7.72 1.47 1.35L5.41 20z\"/>\n",
              "  </svg>\n",
              "      </button>\n",
              "      \n",
              "  <style>\n",
              "    .colab-df-container {\n",
              "      display:flex;\n",
              "      flex-wrap:wrap;\n",
              "      gap: 12px;\n",
              "    }\n",
              "\n",
              "    .colab-df-convert {\n",
              "      background-color: #E8F0FE;\n",
              "      border: none;\n",
              "      border-radius: 50%;\n",
              "      cursor: pointer;\n",
              "      display: none;\n",
              "      fill: #1967D2;\n",
              "      height: 32px;\n",
              "      padding: 0 0 0 0;\n",
              "      width: 32px;\n",
              "    }\n",
              "\n",
              "    .colab-df-convert:hover {\n",
              "      background-color: #E2EBFA;\n",
              "      box-shadow: 0px 1px 2px rgba(60, 64, 67, 0.3), 0px 1px 3px 1px rgba(60, 64, 67, 0.15);\n",
              "      fill: #174EA6;\n",
              "    }\n",
              "\n",
              "    [theme=dark] .colab-df-convert {\n",
              "      background-color: #3B4455;\n",
              "      fill: #D2E3FC;\n",
              "    }\n",
              "\n",
              "    [theme=dark] .colab-df-convert:hover {\n",
              "      background-color: #434B5C;\n",
              "      box-shadow: 0px 1px 3px 1px rgba(0, 0, 0, 0.15);\n",
              "      filter: drop-shadow(0px 1px 2px rgba(0, 0, 0, 0.3));\n",
              "      fill: #FFFFFF;\n",
              "    }\n",
              "  </style>\n",
              "\n",
              "      <script>\n",
              "        const buttonEl =\n",
              "          document.querySelector('#df-adf24b73-e9c2-4e64-b0d6-cdab922a7854 button.colab-df-convert');\n",
              "        buttonEl.style.display =\n",
              "          google.colab.kernel.accessAllowed ? 'block' : 'none';\n",
              "\n",
              "        async function convertToInteractive(key) {\n",
              "          const element = document.querySelector('#df-adf24b73-e9c2-4e64-b0d6-cdab922a7854');\n",
              "          const dataTable =\n",
              "            await google.colab.kernel.invokeFunction('convertToInteractive',\n",
              "                                                     [key], {});\n",
              "          if (!dataTable) return;\n",
              "\n",
              "          const docLinkHtml = 'Like what you see? Visit the ' +\n",
              "            '<a target=\"_blank\" href=https://colab.research.google.com/notebooks/data_table.ipynb>data table notebook</a>'\n",
              "            + ' to learn more about interactive tables.';\n",
              "          element.innerHTML = '';\n",
              "          dataTable['output_type'] = 'display_data';\n",
              "          await google.colab.output.renderOutput(dataTable, element);\n",
              "          const docLink = document.createElement('div');\n",
              "          docLink.innerHTML = docLinkHtml;\n",
              "          element.appendChild(docLink);\n",
              "        }\n",
              "      </script>\n",
              "    </div>\n",
              "  </div>\n",
              "  "
            ]
          },
          "metadata": {},
          "execution_count": 119
        }
      ]
    },
    {
      "cell_type": "code",
      "source": [],
      "metadata": {
        "id": "qdGKxpP6Zr-R"
      },
      "execution_count": null,
      "outputs": []
    },
    {
      "cell_type": "markdown",
      "source": [
        "Contare il numero "
      ],
      "metadata": {
        "id": "kvGs-rDLb7dW"
      }
    }
  ]
}