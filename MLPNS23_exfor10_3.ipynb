{
  "nbformat": 4,
  "nbformat_minor": 0,
  "metadata": {
    "colab": {
      "provenance": [],
      "authorship_tag": "ABX9TyOv7mdk8SWoMzpv4tobhVGi",
      "include_colab_link": true
    },
    "kernelspec": {
      "name": "python3",
      "display_name": "Python 3"
    },
    "language_info": {
      "name": "python"
    }
  },
  "cells": [
    {
      "cell_type": "markdown",
      "metadata": {
        "id": "view-in-github",
        "colab_type": "text"
      },
      "source": [
        "<a href=\"https://colab.research.google.com/github/laurabersani/MLPNS_LBersani/blob/main/MLPNS23_exfor10_3.ipynb\" target=\"_parent\"><img src=\"https://colab.research.google.com/assets/colab-badge.svg\" alt=\"Open In Colab\"/></a>"
      ]
    },
    {
      "cell_type": "markdown",
      "source": [
        "#Esercizio pandas\n",
        "Quanti e quali film sono solo di tipo fantasy? E quali di tipo adventure?\n",
        "Quanti sono di tipo fantasy e anche altri? E adventure?"
      ],
      "metadata": {
        "id": "gvQEO-IfnNtj"
      }
    },
    {
      "cell_type": "code",
      "source": [
        "import pandas as pd"
      ],
      "metadata": {
        "id": "K_cGsgkIn_jP"
      },
      "execution_count": null,
      "outputs": []
    },
    {
      "cell_type": "code",
      "source": [
        "url=\"https://raw.githubusercontent.com/fedhere/UInotebooks/master/dataWrangling/movies.dat\""
      ],
      "metadata": {
        "id": "38pN0tchYeEY"
      },
      "execution_count": null,
      "outputs": []
    },
    {
      "cell_type": "code",
      "source": [
        "colnames=[\"numero\",\"title\", \"genre\"] \n",
        "movies=pd.read_csv(url, sep=\"::\", header=None, names=colnames) "
      ],
      "metadata": {
        "colab": {
          "base_uri": "https://localhost:8080/"
        },
        "id": "5KCXp2lyn7lH",
        "outputId": "e022c29d-9ee8-4aa2-fa32-2644e7a2e275"
      },
      "execution_count": null,
      "outputs": [
        {
          "output_type": "stream",
          "name": "stderr",
          "text": [
            "/usr/local/lib/python3.9/dist-packages/pandas/util/_decorators.py:311: ParserWarning: Falling back to the 'python' engine because the 'c' engine does not support regex separators (separators > 1 char and different from '\\s+' are interpreted as regex); you can avoid this warning by specifying engine='python'.\n",
            "  return func(*args, **kwargs)\n"
          ]
        }
      ]
    },
    {
      "cell_type": "code",
      "source": [
        "print(movies)"
      ],
      "metadata": {
        "colab": {
          "base_uri": "https://localhost:8080/"
        },
        "id": "pLiBZ_SKoOqN",
        "outputId": "03c0d94b-58cd-4b30-b36a-61912afd3bdd"
      },
      "execution_count": null,
      "outputs": [
        {
          "output_type": "stream",
          "name": "stdout",
          "text": [
            "      numero                               title                         genre\n",
            "0          1                    Toy Story (1995)   Animation|Children's|Comedy\n",
            "1          2                      Jumanji (1995)  Adventure|Children's|Fantasy\n",
            "2          3             Grumpier Old Men (1995)                Comedy|Romance\n",
            "3          4            Waiting to Exhale (1995)                  Comedy|Drama\n",
            "4          5  Father of the Bride Part II (1995)                        Comedy\n",
            "...      ...                                 ...                           ...\n",
            "3878    3948             Meet the Parents (2000)                        Comedy\n",
            "3879    3949          Requiem for a Dream (2000)                         Drama\n",
            "3880    3950                    Tigerland (2000)                         Drama\n",
            "3881    3951             Two Family House (2000)                         Drama\n",
            "3882    3952               Contender, The (2000)                Drama|Thriller\n",
            "\n",
            "[3883 rows x 3 columns]\n"
          ]
        }
      ]
    },
    {
      "cell_type": "code",
      "source": [
        "count=0\n",
        "name=\"Fantasy\"\n",
        "for i in range(movies.shape[0]):\n",
        "  if name==movies.genre[i]:\n",
        "    count=count+1\n",
        "    print(movies.title[i])\n",
        "    print(\"Index is \", i)\n",
        "count"
      ],
      "metadata": {
        "colab": {
          "base_uri": "https://localhost:8080/"
        },
        "id": "ng8D_Fisw21g",
        "outputId": "5a26e79d-aa87-4208-d203-09740fae57da"
      },
      "execution_count": null,
      "outputs": [
        {
          "output_type": "stream",
          "name": "stdout",
          "text": [
            "Hungarian Fairy Tale, A (1987)\n",
            "Index is  782\n"
          ]
        },
        {
          "output_type": "execute_result",
          "data": {
            "text/plain": [
              "1"
            ]
          },
          "metadata": {},
          "execution_count": 52
        }
      ]
    },
    {
      "cell_type": "code",
      "source": [
        "count=0\n",
        "name=\"Adventure\"\n",
        "for i in range(movies.shape[0]):\n",
        "  if name==movies.genre[i]:\n",
        "    count=count+1\n",
        "    print(movies.title[i])\n",
        "    print(\"Index is \", i)\n",
        "count"
      ],
      "metadata": {
        "colab": {
          "base_uri": "https://localhost:8080/"
        },
        "outputId": "7642625c-7d1d-457e-ec58-a40fd779fdbe",
        "id": "KJzcw_wbxgiL"
      },
      "execution_count": null,
      "outputs": [
        {
          "output_type": "stream",
          "name": "stdout",
          "text": [
            "Phantom, The (1996)\n",
            "Index is  751\n",
            "Mark of Zorro, The (1940)\n",
            "Index is  929\n",
            "Macao (1952)\n",
            "Index is  1056\n",
            "Treasure of the Sierra Madre, The (1948)\n",
            "Index is  1234\n",
            "Man Who Would Be King, The (1975)\n",
            "Index is  1283\n",
            "Prince Valiant (1997)\n",
            "Index is  1780\n",
            "Mutiny on the Bounty (1935)\n",
            "Index is  1862\n",
            "Firewalker (1986)\n",
            "Index is  2408\n",
            "Beyond the Poseidon Adventure (1979)\n",
            "Index is  2468\n",
            "Napoleon and Samantha (1972)\n",
            "Index is  2826\n",
            "Quest for Fire (1981)\n",
            "Index is  2967\n",
            "Brenda Starr (1989)\n",
            "Index is  3097\n",
            "Ulysses (Ulisse) (1954)\n",
            "Index is  3103\n",
            "Snows of Kilimanjaro, The (1952)\n",
            "Index is  3138\n",
            "Shanghai Surprise (1986)\n",
            "Index is  3321\n",
            "Bear, The (1988)\n",
            "Index is  3343\n",
            "Son of the Sheik, The (1926)\n",
            "Index is  3423\n"
          ]
        },
        {
          "output_type": "execute_result",
          "data": {
            "text/plain": [
              "17"
            ]
          },
          "metadata": {},
          "execution_count": 53
        }
      ]
    },
    {
      "cell_type": "code",
      "source": [
        "count=0\n",
        "for i in range(movies.shape[0]):\n",
        "  if (\"Fantasy\" in movies.genre[i]):\n",
        "    count=count+1\n",
        "count"
      ],
      "metadata": {
        "colab": {
          "base_uri": "https://localhost:8080/"
        },
        "id": "uVcct09tvJXh",
        "outputId": "b8ce7faf-6ccd-40c1-b58c-fdfb45183734"
      },
      "execution_count": null,
      "outputs": [
        {
          "output_type": "execute_result",
          "data": {
            "text/plain": [
              "68"
            ]
          },
          "metadata": {},
          "execution_count": 46
        }
      ]
    },
    {
      "cell_type": "code",
      "source": [
        "count=0\n",
        "for i in range(movies.shape[0]):\n",
        "  if (\"Adventure\" in movies.genre[i]):\n",
        "    count=count+1\n",
        "count"
      ],
      "metadata": {
        "colab": {
          "base_uri": "https://localhost:8080/"
        },
        "outputId": "47a26e64-4859-4694-a768-0665bf846db4",
        "id": "HIQ5Q45_wD4R"
      },
      "execution_count": null,
      "outputs": [
        {
          "output_type": "execute_result",
          "data": {
            "text/plain": [
              "283"
            ]
          },
          "metadata": {},
          "execution_count": 47
        }
      ]
    },
    {
      "cell_type": "code",
      "source": [
        "#senza for\n",
        "movie_bool= movies.genre==\"Fantasy\"\n",
        "print(sum(movie_bool))\n",
        "\n",
        "movie_bool= movies.genre==\"Adventure\"\n",
        "print(sum(movie_bool))\n"
      ],
      "metadata": {
        "id": "4b9hmIXd76Zq",
        "colab": {
          "base_uri": "https://localhost:8080/"
        },
        "outputId": "9e4760d0-0080-4bc7-ab65-666c4dfa7e9d"
      },
      "execution_count": 61,
      "outputs": [
        {
          "output_type": "stream",
          "name": "stdout",
          "text": [
            "1\n",
            "17\n"
          ]
        }
      ]
    },
    {
      "cell_type": "code",
      "source": [
        "def efan(strtot):\n",
        "  return \"Fantasy\" in strtot\n",
        "\n",
        "def eadv(strtot):\n",
        "  return \"Adventure\" in strtot"
      ],
      "metadata": {
        "id": "V4qPFde89UEW"
      },
      "execution_count": 74,
      "outputs": []
    },
    {
      "cell_type": "code",
      "source": [
        "norip_bool=movies.genre.map(efan)#map applica a tutte le righe. però la funzione deve essere ovviamente anche \n",
        "print(sum(norip_bool))\n",
        "\n",
        "norip_bool=movies.genre.map(eadv)\n",
        "print(sum(norip_bool))"
      ],
      "metadata": {
        "colab": {
          "base_uri": "https://localhost:8080/"
        },
        "id": "wBnSOraC-WUh",
        "outputId": "fa85538e-8469-4457-ce84-b0990dd6877e"
      },
      "execution_count": 75,
      "outputs": [
        {
          "output_type": "stream",
          "name": "stdout",
          "text": [
            "68\n",
            "283\n"
          ]
        }
      ]
    }
  ]
}