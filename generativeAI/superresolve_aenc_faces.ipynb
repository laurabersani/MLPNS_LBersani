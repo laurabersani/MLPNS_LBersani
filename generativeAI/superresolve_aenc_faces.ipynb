{
  "nbformat": 4,
  "nbformat_minor": 0,
  "metadata": {
    "colab": {
      "name": "EthicsAIaenc_faces.ipynb",
      "provenance": [],
      "include_colab_link": true
    },
    "kernelspec": {
      "name": "python3",
      "display_name": "Python 3"
    },
    "accelerator": "GPU",
    "widgets": {
      "application/vnd.jupyter.widget-state+json": {
        "b2252dd5c80b4ba580836207bc081260": {
          "model_module": "@jupyter-widgets/controls",
          "model_name": "HBoxModel",
          "model_module_version": "1.5.0",
          "state": {
            "_dom_classes": [],
            "_model_module": "@jupyter-widgets/controls",
            "_model_module_version": "1.5.0",
            "_model_name": "HBoxModel",
            "_view_count": null,
            "_view_module": "@jupyter-widgets/controls",
            "_view_module_version": "1.5.0",
            "_view_name": "HBoxView",
            "box_style": "",
            "children": [
              "IPY_MODEL_535bdb2751e64086a23534f11847e049",
              "IPY_MODEL_4e2c9baefab7498292afe3d00db3029a",
              "IPY_MODEL_4c0d29061d584690b578b089a4791169"
            ],
            "layout": "IPY_MODEL_74b1d24eae27421992ed7459b486dccb"
          }
        },
        "535bdb2751e64086a23534f11847e049": {
          "model_module": "@jupyter-widgets/controls",
          "model_name": "HTMLModel",
          "model_module_version": "1.5.0",
          "state": {
            "_dom_classes": [],
            "_model_module": "@jupyter-widgets/controls",
            "_model_module_version": "1.5.0",
            "_model_name": "HTMLModel",
            "_view_count": null,
            "_view_module": "@jupyter-widgets/controls",
            "_view_module_version": "1.5.0",
            "_view_name": "HTMLView",
            "description": "",
            "description_tooltip": null,
            "layout": "IPY_MODEL_45f57fc8b03a413e86b5bf64106cfff0",
            "placeholder": "​",
            "style": "IPY_MODEL_f3a3c258eefe44809e2b40944e70a8b3",
            "value": "100%"
          }
        },
        "4e2c9baefab7498292afe3d00db3029a": {
          "model_module": "@jupyter-widgets/controls",
          "model_name": "FloatProgressModel",
          "model_module_version": "1.5.0",
          "state": {
            "_dom_classes": [],
            "_model_module": "@jupyter-widgets/controls",
            "_model_module_version": "1.5.0",
            "_model_name": "FloatProgressModel",
            "_view_count": null,
            "_view_module": "@jupyter-widgets/controls",
            "_view_module_version": "1.5.0",
            "_view_name": "ProgressView",
            "bar_style": "success",
            "description": "",
            "description_tooltip": null,
            "layout": "IPY_MODEL_fe9bb5df8897439cad32af31be05d4e8",
            "max": 1441,
            "min": 0,
            "orientation": "horizontal",
            "style": "IPY_MODEL_1d266efb633e40e3a8298f074c5c8147",
            "value": 1441
          }
        },
        "4c0d29061d584690b578b089a4791169": {
          "model_module": "@jupyter-widgets/controls",
          "model_name": "HTMLModel",
          "model_module_version": "1.5.0",
          "state": {
            "_dom_classes": [],
            "_model_module": "@jupyter-widgets/controls",
            "_model_module_version": "1.5.0",
            "_model_name": "HTMLModel",
            "_view_count": null,
            "_view_module": "@jupyter-widgets/controls",
            "_view_module_version": "1.5.0",
            "_view_name": "HTMLView",
            "description": "",
            "description_tooltip": null,
            "layout": "IPY_MODEL_3fb73994365e4606a28e34a39938d77e",
            "placeholder": "​",
            "style": "IPY_MODEL_75196a63a0dd45deaecfebe3ab58b48e",
            "value": " 1441/1441 [00:04&lt;00:00, 401.91it/s]"
          }
        },
        "74b1d24eae27421992ed7459b486dccb": {
          "model_module": "@jupyter-widgets/base",
          "model_name": "LayoutModel",
          "model_module_version": "1.2.0",
          "state": {
            "_model_module": "@jupyter-widgets/base",
            "_model_module_version": "1.2.0",
            "_model_name": "LayoutModel",
            "_view_count": null,
            "_view_module": "@jupyter-widgets/base",
            "_view_module_version": "1.2.0",
            "_view_name": "LayoutView",
            "align_content": null,
            "align_items": null,
            "align_self": null,
            "border": null,
            "bottom": null,
            "display": null,
            "flex": null,
            "flex_flow": null,
            "grid_area": null,
            "grid_auto_columns": null,
            "grid_auto_flow": null,
            "grid_auto_rows": null,
            "grid_column": null,
            "grid_gap": null,
            "grid_row": null,
            "grid_template_areas": null,
            "grid_template_columns": null,
            "grid_template_rows": null,
            "height": null,
            "justify_content": null,
            "justify_items": null,
            "left": null,
            "margin": null,
            "max_height": null,
            "max_width": null,
            "min_height": null,
            "min_width": null,
            "object_fit": null,
            "object_position": null,
            "order": null,
            "overflow": null,
            "overflow_x": null,
            "overflow_y": null,
            "padding": null,
            "right": null,
            "top": null,
            "visibility": null,
            "width": null
          }
        },
        "45f57fc8b03a413e86b5bf64106cfff0": {
          "model_module": "@jupyter-widgets/base",
          "model_name": "LayoutModel",
          "model_module_version": "1.2.0",
          "state": {
            "_model_module": "@jupyter-widgets/base",
            "_model_module_version": "1.2.0",
            "_model_name": "LayoutModel",
            "_view_count": null,
            "_view_module": "@jupyter-widgets/base",
            "_view_module_version": "1.2.0",
            "_view_name": "LayoutView",
            "align_content": null,
            "align_items": null,
            "align_self": null,
            "border": null,
            "bottom": null,
            "display": null,
            "flex": null,
            "flex_flow": null,
            "grid_area": null,
            "grid_auto_columns": null,
            "grid_auto_flow": null,
            "grid_auto_rows": null,
            "grid_column": null,
            "grid_gap": null,
            "grid_row": null,
            "grid_template_areas": null,
            "grid_template_columns": null,
            "grid_template_rows": null,
            "height": null,
            "justify_content": null,
            "justify_items": null,
            "left": null,
            "margin": null,
            "max_height": null,
            "max_width": null,
            "min_height": null,
            "min_width": null,
            "object_fit": null,
            "object_position": null,
            "order": null,
            "overflow": null,
            "overflow_x": null,
            "overflow_y": null,
            "padding": null,
            "right": null,
            "top": null,
            "visibility": null,
            "width": null
          }
        },
        "f3a3c258eefe44809e2b40944e70a8b3": {
          "model_module": "@jupyter-widgets/controls",
          "model_name": "DescriptionStyleModel",
          "model_module_version": "1.5.0",
          "state": {
            "_model_module": "@jupyter-widgets/controls",
            "_model_module_version": "1.5.0",
            "_model_name": "DescriptionStyleModel",
            "_view_count": null,
            "_view_module": "@jupyter-widgets/base",
            "_view_module_version": "1.2.0",
            "_view_name": "StyleView",
            "description_width": ""
          }
        },
        "fe9bb5df8897439cad32af31be05d4e8": {
          "model_module": "@jupyter-widgets/base",
          "model_name": "LayoutModel",
          "model_module_version": "1.2.0",
          "state": {
            "_model_module": "@jupyter-widgets/base",
            "_model_module_version": "1.2.0",
            "_model_name": "LayoutModel",
            "_view_count": null,
            "_view_module": "@jupyter-widgets/base",
            "_view_module_version": "1.2.0",
            "_view_name": "LayoutView",
            "align_content": null,
            "align_items": null,
            "align_self": null,
            "border": null,
            "bottom": null,
            "display": null,
            "flex": null,
            "flex_flow": null,
            "grid_area": null,
            "grid_auto_columns": null,
            "grid_auto_flow": null,
            "grid_auto_rows": null,
            "grid_column": null,
            "grid_gap": null,
            "grid_row": null,
            "grid_template_areas": null,
            "grid_template_columns": null,
            "grid_template_rows": null,
            "height": null,
            "justify_content": null,
            "justify_items": null,
            "left": null,
            "margin": null,
            "max_height": null,
            "max_width": null,
            "min_height": null,
            "min_width": null,
            "object_fit": null,
            "object_position": null,
            "order": null,
            "overflow": null,
            "overflow_x": null,
            "overflow_y": null,
            "padding": null,
            "right": null,
            "top": null,
            "visibility": null,
            "width": null
          }
        },
        "1d266efb633e40e3a8298f074c5c8147": {
          "model_module": "@jupyter-widgets/controls",
          "model_name": "ProgressStyleModel",
          "model_module_version": "1.5.0",
          "state": {
            "_model_module": "@jupyter-widgets/controls",
            "_model_module_version": "1.5.0",
            "_model_name": "ProgressStyleModel",
            "_view_count": null,
            "_view_module": "@jupyter-widgets/base",
            "_view_module_version": "1.2.0",
            "_view_name": "StyleView",
            "bar_color": null,
            "description_width": ""
          }
        },
        "3fb73994365e4606a28e34a39938d77e": {
          "model_module": "@jupyter-widgets/base",
          "model_name": "LayoutModel",
          "model_module_version": "1.2.0",
          "state": {
            "_model_module": "@jupyter-widgets/base",
            "_model_module_version": "1.2.0",
            "_model_name": "LayoutModel",
            "_view_count": null,
            "_view_module": "@jupyter-widgets/base",
            "_view_module_version": "1.2.0",
            "_view_name": "LayoutView",
            "align_content": null,
            "align_items": null,
            "align_self": null,
            "border": null,
            "bottom": null,
            "display": null,
            "flex": null,
            "flex_flow": null,
            "grid_area": null,
            "grid_auto_columns": null,
            "grid_auto_flow": null,
            "grid_auto_rows": null,
            "grid_column": null,
            "grid_gap": null,
            "grid_row": null,
            "grid_template_areas": null,
            "grid_template_columns": null,
            "grid_template_rows": null,
            "height": null,
            "justify_content": null,
            "justify_items": null,
            "left": null,
            "margin": null,
            "max_height": null,
            "max_width": null,
            "min_height": null,
            "min_width": null,
            "object_fit": null,
            "object_position": null,
            "order": null,
            "overflow": null,
            "overflow_x": null,
            "overflow_y": null,
            "padding": null,
            "right": null,
            "top": null,
            "visibility": null,
            "width": null
          }
        },
        "75196a63a0dd45deaecfebe3ab58b48e": {
          "model_module": "@jupyter-widgets/controls",
          "model_name": "DescriptionStyleModel",
          "model_module_version": "1.5.0",
          "state": {
            "_model_module": "@jupyter-widgets/controls",
            "_model_module_version": "1.5.0",
            "_model_name": "DescriptionStyleModel",
            "_view_count": null,
            "_view_module": "@jupyter-widgets/base",
            "_view_module_version": "1.2.0",
            "_view_name": "StyleView",
            "description_width": ""
          }
        }
      }
    }
  },
  "cells": [
    {
      "cell_type": "markdown",
      "metadata": {
        "id": "view-in-github",
        "colab_type": "text"
      },
      "source": [
        "<a href=\"https://colab.research.google.com/github/laurabersani/MLPNS_LBersani/blob/main/generativeAI/superresolve_aenc_faces.ipynb\" target=\"_parent\"><img src=\"https://colab.research.google.com/assets/colab-badge.svg\" alt=\"Open In Colab\"/></a>"
      ]
    },
    {
      "cell_type": "markdown",
      "metadata": {
        "id": "tGod4GR2FMSH"
      },
      "source": [
        "author FBB for EthicsAI2021"
      ]
    },
    {
      "cell_type": "markdown",
      "metadata": {
        "id": "cKP3gIx3EN7_"
      },
      "source": [
        "# Autoencoder notebook \n",
        "create superresolution portraits from low resolution black and white images:\n",
        "- load a patch of images and lower the resolution\n",
        "- build an autoencoder with a bottleneck layer much smaller thn the number of pixels in an image\n",
        "- pass the lower resolution images as imput and the higher resolution images as output\n",
        "- ask the encoder to predict high resolution images from low resolution ones\n",
        "- test it on a headshot of yourself"
      ]
    },
    {
      "cell_type": "code",
      "metadata": {
        "id": "PS9BF8xoAaBJ",
        "colab": {
          "base_uri": "https://localhost:8080/"
        },
        "outputId": "2ce04134-de4c-4e2c-e64c-2fc3a21a0435"
      },
      "source": [
        "from google.colab import drive\n",
        "\n",
        "drive.mount(\"/content/gdrive\")\n"
      ],
      "execution_count": 1,
      "outputs": [
        {
          "output_type": "stream",
          "name": "stdout",
          "text": [
            "Mounted at /content/gdrive\n"
          ]
        }
      ]
    },
    {
      "cell_type": "code",
      "metadata": {
        "id": "ka6VAkT6DZHM"
      },
      "source": [
        "from keras.models import Sequential\n",
        "from keras.layers import Dense#, Dropout, Flatten\n",
        "#from keras.layers import Conv2D, MaxPooling2D\n",
        "from keras import backend as K\n"
      ],
      "execution_count": 2,
      "outputs": []
    },
    {
      "cell_type": "code",
      "metadata": {
        "id": "RVJyom6NZbaP",
        "colab": {
          "base_uri": "https://localhost:8080/"
        },
        "outputId": "42e69149-fa5a-43ae-df24-89183dc46ed2"
      },
      "source": [
        "import glob\n",
        "import h5py\n",
        "from PIL import Image\n",
        "import numpy as np\n",
        "import pylab as pl\n",
        "from tqdm import tqdm_notebook as tqdm\n",
        "\n",
        "%pylab inline"
      ],
      "execution_count": 3,
      "outputs": [
        {
          "output_type": "stream",
          "name": "stdout",
          "text": [
            "Populating the interactive namespace from numpy and matplotlib\n"
          ]
        }
      ]
    },
    {
      "cell_type": "code",
      "metadata": {
        "id": "yJwQjk5zHsko"
      },
      "source": [
        "#cd /content/gdrive/Shareddrives/\n"
      ],
      "execution_count": 4,
      "outputs": []
    },
    {
      "cell_type": "code",
      "source": [
        "cd /content/gdrive/MyDrive\n"
      ],
      "metadata": {
        "id": "_yTivU_coBeB",
        "outputId": "95f83e6e-c6bb-4a7d-ea93-a7539d26b8ec",
        "colab": {
          "base_uri": "https://localhost:8080/"
        }
      },
      "execution_count": 30,
      "outputs": [
        {
          "output_type": "stream",
          "name": "stdout",
          "text": [
            "/content/gdrive/MyDrive\n"
          ]
        }
      ]
    },
    {
      "cell_type": "markdown",
      "metadata": {
        "id": "F56R_CzCZfpu"
      },
      "source": [
        "# 1A load head shots from known training data - skip to 1B to load images already read in\n",
        "The first time you will need to dowbload faces95.zip. Uncomment the 2 lines of code below"
      ]
    },
    {
      "cell_type": "code",
      "metadata": {
        "id": "dRV0Y1k3I5F_",
        "outputId": "735ed058-ca5e-414f-b35d-801e5bbd72c6",
        "colab": {
          "base_uri": "https://localhost:8080/"
        }
      },
      "source": [
        "# this link no longer works due to the backlash of the algorithm that whitened Obama\n",
        "# but I saved the data in our shared drive\n",
        "#!wget http://www.cl.cam.ac.uk/Research/DTG/attarchive/pub/data/att_faces.zip\n"
      ],
      "execution_count": 15,
      "outputs": [
        {
          "output_type": "stream",
          "name": "stdout",
          "text": [
            "URL transformed to HTTPS due to an HSTS policy\n",
            "--2023-05-09 18:30:49--  https://www.cl.cam.ac.uk/Research/DTG/attarchive/pub/data/att_faces.zip\n",
            "Resolving www.cl.cam.ac.uk (www.cl.cam.ac.uk)... 128.232.0.20, 2a05:b400:110::80:14\n",
            "Connecting to www.cl.cam.ac.uk (www.cl.cam.ac.uk)|128.232.0.20|:443... connected.\n",
            "HTTP request sent, awaiting response... 301 Moved Permanently\n",
            "Location: https://www.cl.cam.ac.uk/research/dtg/attarchive/pub/data/att_faces.zip [following]\n",
            "--2023-05-09 18:30:49--  https://www.cl.cam.ac.uk/research/dtg/attarchive/pub/data/att_faces.zip\n",
            "Reusing existing connection to www.cl.cam.ac.uk:443.\n",
            "HTTP request sent, awaiting response... 404 Not Found\n",
            "2023-05-09 18:30:49 ERROR 404: Not Found.\n",
            "\n"
          ]
        }
      ]
    },
    {
      "cell_type": "code",
      "metadata": {
        "id": "K2-EXkwUGVlA",
        "outputId": "4913a753-0945-4cd2-eb37-81f0f6e780d8",
        "colab": {
          "base_uri": "https://localhost:8080/"
        }
      },
      "source": [
        "#!unzip faces95.zip"
      ],
      "execution_count": 16,
      "outputs": [
        {
          "output_type": "stream",
          "name": "stdout",
          "text": [
            "unzip:  cannot find or open faces95.zip, faces95.zip.zip or faces95.zip.ZIP.\n"
          ]
        }
      ]
    },
    {
      "cell_type": "code",
      "metadata": {
        "id": "_PBLU_0kGVgW",
        "outputId": "46ebfcce-1c15-4b06-b2ea-49bfd174b201",
        "colab": {
          "base_uri": "https://localhost:8080/"
        }
      },
      "source": [
        "!ls MLPNS2023/"
      ],
      "execution_count": 33,
      "outputs": [
        {
          "output_type": "stream",
          "name": "stdout",
          "text": [
            " faces95\t raw.githubusercontent.com      wine.data.1\n",
            "'faces95 (1)'\t spm\t\t\t        wine.names\n",
            " higgsboson\t spm-20210427T111354Z-001.zip\n",
            " kaggleTitanic\t wine.data\n"
          ]
        }
      ]
    },
    {
      "cell_type": "code",
      "metadata": {
        "id": "H86CuGTpGVap"
      },
      "source": [
        "flist = glob.glob(\"MLPNS2023/faces95/*/*jpg\")"
      ],
      "execution_count": 32,
      "outputs": []
    },
    {
      "cell_type": "code",
      "metadata": {
        "id": "XFZGDvy7GVXu",
        "colab": {
          "base_uri": "https://localhost:8080/"
        },
        "outputId": "d54f9817-d3d9-4a2b-968b-9e5967c8188b"
      },
      "source": [
        "N = len(flist)\n",
        "N"
      ],
      "execution_count": 34,
      "outputs": [
        {
          "output_type": "execute_result",
          "data": {
            "text/plain": [
              "1441"
            ]
          },
          "metadata": {},
          "execution_count": 34
        }
      ]
    },
    {
      "cell_type": "markdown",
      "metadata": {
        "id": "wBPDLDqiGVWR"
      },
      "source": [
        "\n",
        "## read in data\n",
        "\n",
        "if you save the data in a npy array you can read it in more quickly. After the first time you run this you can comment out the next 2 cells of code and skip to the np.load command"
      ]
    },
    {
      "cell_type": "code",
      "metadata": {
        "id": "WEnoBy00GVM4",
        "colab": {
          "base_uri": "https://localhost:8080/",
          "height": 452
        },
        "outputId": "107e5771-ab54-401c-fbef-a88e317a7f3f"
      },
      "source": [
        "im = Image.open(flist[40])\n",
        "np_im = numpy.array(im)[:,:,:3].astype(float) / 255 #normalize the images so that they are 0-1\n",
        "pl.imshow(np_im)\n",
        "# I am going to need only a subset of the image: the center part where the head is\n",
        "\n",
        "np_im[25:165:2,25:165:2,:1].shape, np.prod(np_im.shape[1:])"
      ],
      "execution_count": 35,
      "outputs": [
        {
          "output_type": "execute_result",
          "data": {
            "text/plain": [
              "((70, 70, 1), 540)"
            ]
          },
          "metadata": {},
          "execution_count": 35
        },
        {
          "output_type": "display_data",
          "data": {
            "text/plain": [
              "<Figure size 640x480 with 1 Axes>"
            ],
            "image/png": "[encoded data removed]"
          },
          "metadata": {}
        }
      ]
    },
    {
      "cell_type": "code",
      "metadata": {
        "colab": {
          "base_uri": "https://localhost:8080/",
          "height": 451
        },
        "id": "Mj5Li9GKyWjo",
        "outputId": "51f30601-b2e3-4069-a36d-6a780fcb4dd4"
      },
      "source": [
        "pl.imshow(np_im[25:165:2,25:165:2])"
      ],
      "execution_count": 36,
      "outputs": [
        {
          "output_type": "execute_result",
          "data": {
            "text/plain": [
              "<matplotlib.image.AxesImage at 0x7f025fb7f0a0>"
            ]
          },
          "metadata": {},
          "execution_count": 36
        },
        {
          "output_type": "display_data",
          "data": {
            "text/plain": [
              "<Figure size 640x480 with 1 Axes>"
            ],
            "image/png": "[encoded data removed]"
          },
          "metadata": {}
        }
      ]
    },
    {
      "cell_type": "markdown",
      "metadata": {
        "id": "MTZ9lDciagCd"
      },
      "source": [
        "<font color='red'>you can skip this and go  straight to loading the images</font>"
      ]
    },
    {
      "cell_type": "code",
      "metadata": {
        "id": "sRO9HLyPKxQo",
        "colab": {
          "base_uri": "https://localhost:8080/",
          "height": 103,
          "referenced_widgets": [
            "b2252dd5c80b4ba580836207bc081260",
            "535bdb2751e64086a23534f11847e049",
            "4e2c9baefab7498292afe3d00db3029a",
            "4c0d29061d584690b578b089a4791169",
            "74b1d24eae27421992ed7459b486dccb",
            "45f57fc8b03a413e86b5bf64106cfff0",
            "f3a3c258eefe44809e2b40944e70a8b3",
            "fe9bb5df8897439cad32af31be05d4e8",
            "1d266efb633e40e3a8298f074c5c8147",
            "3fb73994365e4606a28e34a39938d77e",
            "75196a63a0dd45deaecfebe3ab58b48e"
          ]
        },
        "outputId": "23493c82-3500-4e3a-ef70-4772c9a2019e"
      },
      "source": [
        "#skip and read the saved version if you have saved it (after the first time you run this cell)\n",
        "# I also use a single color channel (black and white)\n",
        "imgs = np.zeros((N, 70, 70, 1))\n",
        "for i in tqdm(range(len(flist))):\n",
        "  im = Image.open(flist[i])\n",
        "  np_im = numpy.array(im)[:,:,:3].astype(float) / 255 \n",
        "  # here I collect the certain portion of each image \n",
        "  # from pixel 25 to 165 on the x and y axis (25:165)\n",
        "  # and subsampling by a factor 2 (25:165:2)\n",
        "  # and I am only choosing 1 color layer: [...,:1]: the R in RGB layers\n",
        "  imgs[i] = numpy.array(im)[25:165:2,25:165:2,:1].astype(float) / 255 \n",
        "#uncomment this to save another array of images - I saved the original one as data/faces.npy\n",
        "#np.save(\"data/faces_saved.npy\", imgs)"
      ],
      "execution_count": 49,
      "outputs": [
        {
          "output_type": "stream",
          "name": "stderr",
          "text": [
            "<ipython-input-49-8d7a10a391be>:4: TqdmDeprecationWarning: This function will be removed in tqdm==5.0.0\n",
            "Please use `tqdm.notebook.tqdm` instead of `tqdm.tqdm_notebook`\n",
            "  for i in tqdm(range(len(flist))):\n"
          ]
        },
        {
          "output_type": "display_data",
          "data": {
            "text/plain": [
              "  0%|          | 0/1441 [00:00<?, ?it/s]"
            ],
            "application/vnd.jupyter.widget-view+json": {
              "version_major": 2,
              "version_minor": 0,
              "model_id": "b2252dd5c80b4ba580836207bc081260"
            }
          },
          "metadata": {}
        }
      ]
    },
    {
      "cell_type": "code",
      "source": [],
      "metadata": {
        "id": "m11bBqD43GFN"
      },
      "execution_count": null,
      "outputs": []
    },
    {
      "cell_type": "code",
      "source": [
        "np.save(\"data/faces_saved.npy\", imgs)"
      ],
      "metadata": {
        "id": "mkUrjb7UrUD0"
      },
      "execution_count": 52,
      "outputs": []
    },
    {
      "cell_type": "markdown",
      "metadata": {
        "id": "-i82eIydsU-T"
      },
      "source": [
        "# 1B you can read the images below if you have saved them earlier"
      ]
    },
    {
      "cell_type": "code",
      "metadata": {
        "id": "gtdcbAa17cz9",
        "colab": {
          "base_uri": "https://localhost:8080/"
        },
        "outputId": "a7e6ed9e-6bea-4838-f8af-561b108b997f"
      },
      "source": [
        "imgs = np.load(\"data/faces_saved.npy\")\n",
        "imgs.shape"
      ],
      "execution_count": 53,
      "outputs": [
        {
          "output_type": "execute_result",
          "data": {
            "text/plain": [
              "(1441, 70, 70, 1)"
            ]
          },
          "metadata": {},
          "execution_count": 53
        }
      ]
    },
    {
      "cell_type": "markdown",
      "metadata": {
        "id": "1_xTnzagSnUQ"
      },
      "source": [
        "## 2 lower the resolution#\n",
        "keep printing the shape of the images as you go along:\n",
        "\n",
        "make a copy of the original before you lower the res \n",
        "\n",
        "- sample the image every other pixel to get a 35x35 image and only (the shape of the image set should be 1440,35,35,1\n",
        "- create a 75/25 train/test set with the command \n",
        "          train_test_split(input, target, test_size = .25, random_state=1) \n",
        "          What are the input and output data??\n",
        "- the data will be fed as a single row of pixels, so for example each imput image should be reshaped so that  the image array so that eachimage is 35*35 long: reshape the 4 arrays: input training, output training, input test and output test so that they are they are the appropriate shape (each should be Nimages x Npixel)\n",
        "\n",
        "## Meet me at the enf of that to create the autoencoder."
      ]
    },
    {
      "cell_type": "code",
      "metadata": {
        "id": "G1T-YpWvJPLF",
        "outputId": "ec6ca86b-9fc4-450a-ef26-2eb0d634b1cc",
        "colab": {
          "base_uri": "https://localhost:8080/",
          "height": 187
        }
      },
      "source": [
        "#imgs orig is the full resolution image\n",
        "imgs_orig = imgs.copy()"
      ],
      "execution_count": 21,
      "outputs": [
        {
          "output_type": "error",
          "ename": "NameError",
          "evalue": "ignored",
          "traceback": [
            "\u001b[0;31m---------------------------------------------------------------------------\u001b[0m",
            "\u001b[0;31mNameError\u001b[0m                                 Traceback (most recent call last)",
            "\u001b[0;32m<ipython-input-21-e20ae97e1eae>\u001b[0m in \u001b[0;36m<cell line: 2>\u001b[0;34m()\u001b[0m\n\u001b[1;32m      1\u001b[0m \u001b[0;31m#imgs orig is the full resolution image\u001b[0m\u001b[0;34m\u001b[0m\u001b[0;34m\u001b[0m\u001b[0m\n\u001b[0;32m----> 2\u001b[0;31m \u001b[0mimgs_orig\u001b[0m \u001b[0;34m=\u001b[0m \u001b[0mimgs\u001b[0m\u001b[0;34m.\u001b[0m\u001b[0mcopy\u001b[0m\u001b[0;34m(\u001b[0m\u001b[0;34m)\u001b[0m\u001b[0;34m\u001b[0m\u001b[0;34m\u001b[0m\u001b[0m\n\u001b[0m",
            "\u001b[0;31mNameError\u001b[0m: name 'imgs' is not defined"
          ]
        }
      ]
    },
    {
      "cell_type": "code",
      "metadata": {
        "id": "LcqaIVO_JVQU"
      },
      "source": [
        "# lower the resolution\n",
        "# imgs_lr = imgs[:,::2,::2]\n",
        "# slightly better than the line of code above\n",
        "imgs_lr = imgs.reshape(imgs.shape[0], int(imgs.shape[1]/2), 2, \n",
        "                        int(imgs.shape[2]/2), 2\n",
        "                       ).mean(axis=-1).mean(axis=2)\n",
        "imgs_lr.shape"
      ],
      "execution_count": null,
      "outputs": []
    },
    {
      "cell_type": "code",
      "metadata": {
        "id": "25GNF4TmKw-5"
      },
      "source": [
        "#this is the number of pixels in the image\n",
        "np.prod(imgs_lr[1].shape), np.prod(imgs[1].shape), "
      ],
      "execution_count": null,
      "outputs": []
    },
    {
      "cell_type": "markdown",
      "metadata": {
        "id": "YuzhtLfG8RWz"
      },
      "source": [
        "#### generate a train and test set\n",
        "If I want to predict the image at the same resolution I will pass the same input as the target variable. Otherwise the target variable will be a full resolution image set and the low input the lower resolution one"
      ]
    },
    {
      "cell_type": "code",
      "metadata": {
        "id": "cD5Tq_CTGVDc"
      },
      "source": [
        "from sklearn.model_selection import train_test_split\n",
        "X_tr,  X_te, y_tr, y_te = train_test_split(imgs_lr, imgs_orig, \n",
        "                                             test_size = .20, random_state=1)\n",
        "  "
      ],
      "execution_count": null,
      "outputs": []
    },
    {
      "cell_type": "code",
      "metadata": {
        "id": "GH7G4XoNKw11"
      },
      "source": [
        "X_tr.shape, X_te.shape, y_tr.shape, y_te.shape"
      ],
      "execution_count": null,
      "outputs": []
    },
    {
      "cell_type": "code",
      "metadata": {
        "id": "zO-IKuTtGUIa"
      },
      "source": [
        "#each image needs to be unravel into a flat array\n",
        "X_tr = X_tr.reshape(len(X_tr), np.prod(X_tr.shape[1:]))\n",
        "X_te = X_te.reshape(len(X_te), np.prod(X_te.shape[1:]))\n",
        "y_tr = y_tr.reshape(len(y_tr), np.prod(y_tr.shape[1:]))\n",
        "y_te = y_te.reshape(len(y_te), np.prod(y_te.shape[1:]))"
      ],
      "execution_count": null,
      "outputs": []
    },
    {
      "cell_type": "code",
      "metadata": {
        "id": "TFZOTnUejsFU"
      },
      "source": [
        "## important: we feed to the NN rows of pixels, not cubes of pixels\n",
        "X_tr.shape, X_te.shape, y_tr.shape, y_te.shape"
      ],
      "execution_count": null,
      "outputs": []
    },
    {
      "cell_type": "markdown",
      "metadata": {
        "id": "O2taigiAbUkf"
      },
      "source": [
        "## 3 build an autoencoder model\n",
        "\n",
        "Remember that the autoencoder is an hour clock model: the center is a smallest layer\n",
        "\n",
        "for example your NN layers could be \n",
        "\n",
        "324 (input size) -> 256 -> 128 -> 56 -> 128 -> 256 -> 1225 (output size)"
      ]
    },
    {
      "cell_type": "code",
      "metadata": {
        "id": "XAFXQiSPGVGE"
      },
      "source": [
        "# this model is 324 (input size) -> 256 -> 128 128 -> 256 -> 1225 (output size)\n",
        "\n",
        "model = Sequential()\n",
        "model.add(Dense(256, activation='relu', input_dim=1225))\n",
        "model.add(Dense(128, activation='relu', name=\"bottleneck\"))\n",
        "model.add(Dense(256, activation='relu'))\n",
        "model.add(Dense(1225, activation='relu'))\n",
        "model.add(Dense(1225*4, activation='sigmoid'))\n",
        "model.compile(optimizer='adamax', loss='mse',\n",
        "              metrics=['mae', 'acc'])# optimizer=\"adadelta\", loss=\"kullback_leibler_divergence\")\n"
      ],
      "execution_count": null,
      "outputs": []
    },
    {
      "cell_type": "code",
      "metadata": {
        "id": "DVcza_KHX0In"
      },
      "source": [
        "print(model.summary())"
      ],
      "execution_count": null,
      "outputs": []
    },
    {
      "cell_type": "markdown",
      "metadata": {
        "id": "U2-USV-IaqeS"
      },
      "source": [
        "## 4 A train model OR you can skip and load the pretrained I saved for you! (as long as you did not change the architecture\n",
        "or to read in the saved model skip this cell, or skip the whole section and read a model from http://fbb.space/mltsa/imgreconstruct_10000.h5"
      ]
    },
    {
      "cell_type": "code",
      "metadata": {
        "id": "I1AOvAAp_W6l"
      },
      "source": [],
      "execution_count": null,
      "outputs": []
    },
    {
      "cell_type": "code",
      "metadata": {
        "id": "PMGm7jvcEBwd"
      },
      "source": [
        "from keras.callbacks import EarlyStopping\n",
        "callback = EarlyStopping(monitor='val_mae',\n",
        "                         patience=10,\n",
        "                         min_delta=0.0001)"
      ],
      "execution_count": null,
      "outputs": []
    },
    {
      "cell_type": "code",
      "metadata": {
        "id": "gi9L466xzwkH"
      },
      "source": [
        "# you can skip this and load the saved model\n",
        "history = model.fit( X_tr, y_tr, epochs=100000, \n",
        "                    validation_data=[X_te, y_te],\n",
        "                    batch_size=16, verbose=1,\n",
        "                    callbacks=[callback])\n",
        "#model.save(\"imgreconstruct_100000PUS.h5\")"
      ],
      "execution_count": null,
      "outputs": []
    },
    {
      "cell_type": "code",
      "metadata": {
        "id": "MKoIhpC7AHQo"
      },
      "source": [
        "#model.save(\"data/imgreconstruct_10000.h5\")"
      ],
      "execution_count": null,
      "outputs": []
    },
    {
      "cell_type": "code",
      "metadata": {
        "id": "pjloYmIK4SLE"
      },
      "source": [
        "# READ IN THE SAVED MODEL\n",
        "#!wget http://fbb.space/mltsa/imgreconstruct_10000.h5\n",
        "model.load_weights(\"data/imgreconstruct_10000.h5\")"
      ],
      "execution_count": null,
      "outputs": []
    },
    {
      "cell_type": "markdown",
      "metadata": {
        "id": "Jo2bsxMDazQW"
      },
      "source": [
        "## predict"
      ]
    },
    {
      "cell_type": "code",
      "metadata": {
        "id": "AcklN-01M8vk"
      },
      "source": [
        "outim = model.predict(X_te)\n",
        "outim"
      ],
      "execution_count": null,
      "outputs": []
    },
    {
      "cell_type": "code",
      "metadata": {
        "id": "ROEqgG3aM8yV"
      },
      "source": [
        "def compareinout(i, outim, X_tr):\n",
        "  '''function to plot the input, the prediction and the target in 3 columns\n",
        "  plots the ith training datum'''\n",
        "  fig = pl.figure(figsize(10,5))\n",
        "  ax = fig.add_subplot(131) \n",
        "  ax.imshow(X_te[i].reshape(imgs_lr[i].shape[:2]) , cmap=\"bone\")\n",
        "  ax.get_xaxis().set_visible(False)\n",
        "  ax.get_yaxis().set_visible(False)\n",
        "  ax = fig.add_subplot(132) \n",
        "  ax.imshow(outim[i].reshape(imgs_orig[i].shape[:2]) , cmap=\"bone\")\n",
        "  ax.get_xaxis().set_visible(False)\n",
        "  ax.get_yaxis().set_visible(False)\n",
        "  ax = fig.add_subplot(133) \n",
        "  ax.imshow(y_te[i].reshape(imgs_orig[i].shape[:2]) , cmap=\"bone\")\n",
        "  ax.get_xaxis().set_visible(False)\n",
        "  ax.get_yaxis().set_visible(False)\n"
      ],
      "execution_count": null,
      "outputs": []
    },
    {
      "cell_type": "code",
      "metadata": {
        "id": "ZsCU__LQM8sZ"
      },
      "source": [
        "np.random.seed(302)\n",
        "# pick a few random test images\n",
        "for i in range(0, 10, 1):\n",
        "  j = np.random.randint(0, len(X_te))\n",
        "  print(i + 1, \":\\tinput\\t\\t      prediction\\t\\t  target\")\n",
        "  compareinout(j, outim, X_te)\n",
        "  pl.show()"
      ],
      "execution_count": null,
      "outputs": []
    },
    {
      "cell_type": "markdown",
      "metadata": {
        "id": "9HIViBLyFT35"
      },
      "source": [
        "What do you think? some are pretty good right?! e.g. 1, 4, 6, 7, 8\n",
        "\n",
        "Some are really bad. 9... why?"
      ]
    },
    {
      "cell_type": "markdown",
      "metadata": {
        "id": "CoglgR7UBzId"
      },
      "source": [
        "## show the latent representation of the data: the bottleneck layer output"
      ]
    },
    {
      "cell_type": "code",
      "metadata": {
        "id": "K8pMSWp_Zz2G"
      },
      "source": [
        "from keras import backend as K\n",
        "# input placeholder\n",
        "inp = model.input                   \n",
        "# extract the bottle neck outputs\n",
        "outputs = model.layers[1].output     \n",
        "# create a function to evaluate the output of the bottle neck layer for a given input\n",
        "functors = K.function([inp], [outputs])    \n",
        "\n",
        "# Testing\n",
        "layer_outs = functors(X_te[:5])\n",
        "  \n",
        "for i in range(5):\n",
        "  pl.plot(layer_outs[0][i] + i)\n",
        "\n",
        "pl.xlabel(\"feature\")\n",
        "pl.yticks([],\"\")\n",
        "pl.title(\"latent representation of the test data\");"
      ],
      "execution_count": null,
      "outputs": []
    },
    {
      "cell_type": "markdown",
      "metadata": {
        "id": "Mk9UpMzNCQxc"
      },
      "source": [
        "# test the model on your own image\n",
        " depending on the initial size you will have to downsample the image, and extract a single color layer"
      ]
    },
    {
      "cell_type": "code",
      "metadata": {
        "id": "Qtnzijr4aKiq"
      },
      "source": [
        "from google.colab import files\n",
        "from io import BytesIO\n",
        "from PIL import Image\n",
        "uploaded = files.upload()\n"
      ],
      "execution_count": null,
      "outputs": []
    },
    {
      "cell_type": "code",
      "source": [
        "file_contents = uploaded[list(uploaded.keys())[0]]\n"
      ],
      "metadata": {
        "id": "zlflvTyUvONy"
      },
      "execution_count": null,
      "outputs": []
    },
    {
      "cell_type": "code",
      "source": [
        "imme = Image.open(BytesIO(file_contents))\n",
        "plt.imshow(imme)"
      ],
      "metadata": {
        "id": "rDQmsK5nvTi6"
      },
      "execution_count": null,
      "outputs": []
    },
    {
      "cell_type": "code",
      "metadata": {
        "id": "JJUeeG3jxRkR"
      },
      "source": [
        "\n",
        "np_im = numpy.array(imme)[::2,::2,:3].astype(float) / 255\n",
        "pl.figure()\n",
        "pl.imshow(np_im[0:550,220:700,:] )\n",
        "np_im[100:625,250:775,:].shape, np.prod(np_im.shape[1:]);\n"
      ],
      "execution_count": null,
      "outputs": []
    },
    {
      "cell_type": "markdown",
      "metadata": {
        "id": "1MbDdOuzCtp3"
      },
      "source": [
        "low resolution version\n",
        "subsampling by 15"
      ]
    },
    {
      "cell_type": "code",
      "metadata": {
        "id": "7KkxS127Vuc1"
      },
      "source": [
        "np_im_me = np_im[100:625,240:775,:][::15,::15,1]\n",
        "np_im_me.shape"
      ],
      "execution_count": null,
      "outputs": []
    },
    {
      "cell_type": "code",
      "metadata": {
        "id": "-IDzyHTAxd1S"
      },
      "source": [
        "\n",
        "pl.imshow(np_im_me, cmap=\"bone\")\n",
        "pl.axis('off');"
      ],
      "execution_count": null,
      "outputs": []
    },
    {
      "cell_type": "code",
      "metadata": {
        "id": "j1BP4EUSzl8F"
      },
      "source": [
        "pl.imshow(model.predict(np.array([np_im_me.flatten()])).reshape(70,70), \n",
        "          cmap=\"bone\")\n",
        "pl.axis('off');"
      ],
      "execution_count": null,
      "outputs": []
    },
    {
      "cell_type": "markdown",
      "metadata": {
        "id": "gY9XrOylrw6N"
      },
      "source": [
        "# ... not good at all :-( why??"
      ]
    },
    {
      "cell_type": "code",
      "metadata": {
        "id": "0Xn22HV8EJrD"
      },
      "source": [],
      "execution_count": null,
      "outputs": []
    }
  ]
}